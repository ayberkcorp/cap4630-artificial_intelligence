{
  "nbformat": 4,
  "nbformat_minor": 0,
  "metadata": {
    "colab": {
      "name": "Problem3A.ipynb",
      "provenance": [],
      "collapsed_sections": [],
      "include_colab_link": true
    },
    "kernelspec": {
      "name": "python3",
      "display_name": "Python 3"
    },
    "accelerator": "GPU"
  },
  "cells": [
    {
      "cell_type": "markdown",
      "metadata": {
        "id": "view-in-github",
        "colab_type": "text"
      },
      "source": [
        "<a href=\"https://colab.research.google.com/github/ayberkcorp/cap4630-artificial_intelligence/blob/master/HW_4/Problem3A.ipynb\" target=\"_parent\"><img src=\"https://colab.research.google.com/assets/colab-badge.svg\" alt=\"Open In Colab\"/></a>"
      ]
    },
    {
      "cell_type": "markdown",
      "metadata": {
        "id": "KSrgMJ5vKFzQ",
        "colab_type": "text"
      },
      "source": [
        "# Fine-tuning Xception "
      ]
    },
    {
      "cell_type": "markdown",
      "metadata": {
        "id": "TIW7bZaAK-Hf",
        "colab_type": "text"
      },
      "source": [
        "This is based on section 5.3 *Using a pretrained convnet* of the book *Deep learning with Python* by Francois Chollet. I have made several changes to the code. I use the data that is already provided by Google. I don't download the data from Kaggle as in the deep learning book."
      ]
    },
    {
      "cell_type": "markdown",
      "metadata": {
        "id": "nsBq__dVo2pj",
        "colab_type": "text"
      },
      "source": [
        "## Feature extraction"
      ]
    },
    {
      "cell_type": "markdown",
      "metadata": {
        "id": "0g6ETAM9o54M",
        "colab_type": "text"
      },
      "source": [
        "Feature extraction consists of using the representations learned by a previous network to extract interesting features from new samples. These features are then run through a new classifier, which is trained from scratch.\n",
        "\n",
        "We will use here the convolutional base of the Xception model to extract the features. We will feed these features to a densely connected classifier with dropout. We will fine-tune some layers."
      ]
    },
    {
      "cell_type": "markdown",
      "metadata": {
        "id": "BqIG8QHMLNOn",
        "colab_type": "text"
      },
      "source": [
        "## Download the data"
      ]
    },
    {
      "cell_type": "markdown",
      "metadata": {
        "id": "t3I1jd7cKV6_",
        "colab_type": "text"
      },
      "source": [
        "Download the example data, a zip. of 2,000 JPG pictures of cats and dogs and extract it locally in ```/tmp```.\n",
        "\n"
      ]
    },
    {
      "cell_type": "code",
      "metadata": {
        "id": "JWjprHEXJ5Qi",
        "colab_type": "code",
        "outputId": "6fd87f8e-d114-4667-8f9a-b44c4afb2e91",
        "colab": {
          "base_uri": "https://localhost:8080/",
          "height": 208
        }
      },
      "source": [
        "!wget --no-check-certificate \\\n",
        "    https://storage.googleapis.com/mledu-datasets/cats_and_dogs_filtered.zip \\\n",
        "    -O /tmp/cats_and_dogs_filtered.zip"
      ],
      "execution_count": 1,
      "outputs": [
        {
          "output_type": "stream",
          "text": [
            "--2020-04-23 20:48:54--  https://storage.googleapis.com/mledu-datasets/cats_and_dogs_filtered.zip\n",
            "Resolving storage.googleapis.com (storage.googleapis.com)... 172.217.7.208, 2607:f8b0:4004:814::2010\n",
            "Connecting to storage.googleapis.com (storage.googleapis.com)|172.217.7.208|:443... connected.\n",
            "HTTP request sent, awaiting response... 200 OK\n",
            "Length: 68606236 (65M) [application/zip]\n",
            "Saving to: ‘/tmp/cats_and_dogs_filtered.zip’\n",
            "\n",
            "/tmp/cats_and_dogs_ 100%[===================>]  65.43M  75.8MB/s    in 0.9s    \n",
            "\n",
            "2020-04-23 20:48:55 (75.8 MB/s) - ‘/tmp/cats_and_dogs_filtered.zip’ saved [68606236/68606236]\n",
            "\n"
          ],
          "name": "stdout"
        }
      ]
    },
    {
      "cell_type": "code",
      "metadata": {
        "id": "WvoHtdA-K6Rw",
        "colab_type": "code",
        "colab": {}
      },
      "source": [
        "import os\n",
        "import zipfile\n",
        "\n",
        "local_zip = '/tmp/cats_and_dogs_filtered.zip'\n",
        "zip_ref = zipfile.ZipFile(local_zip, 'r')\n",
        "zip_ref.extractall('/tmp')\n",
        "zip_ref.close()"
      ],
      "execution_count": 0,
      "outputs": []
    },
    {
      "cell_type": "markdown",
      "metadata": {
        "id": "shZiOBnJMyy_",
        "colab_type": "text"
      },
      "source": [
        "Note that the data provided by Google does not have a test set."
      ]
    },
    {
      "cell_type": "code",
      "metadata": {
        "id": "dL8ikM89LlsH",
        "colab_type": "code",
        "colab": {}
      },
      "source": [
        "base_dir = '/tmp/cats_and_dogs_filtered'\n",
        "train_dir = os.path.join(base_dir, 'train')\n",
        "validation_dir = os.path.join(base_dir, 'validation')\n",
        "\n",
        "# Directory with our training cat pictures\n",
        "train_cats_dir = os.path.join(train_dir, 'cats')\n",
        "\n",
        "# Directory with our training dog pictures\n",
        "train_dogs_dir = os.path.join(train_dir, 'dogs')\n",
        "\n",
        "# Directory with our validation cat pictures\n",
        "validation_cats_dir = os.path.join(validation_dir, 'cats')\n",
        "\n",
        "# Directory with our validation dog pictures\n",
        "validation_dogs_dir = os.path.join(validation_dir, 'dogs')"
      ],
      "execution_count": 0,
      "outputs": []
    },
    {
      "cell_type": "markdown",
      "metadata": {
        "id": "inyP8bcdXnn-",
        "colab_type": "text"
      },
      "source": [
        "## Build network with Xception convolution base and custom densely connected layers"
      ]
    },
    {
      "cell_type": "markdown",
      "metadata": {
        "id": "kQ48W5T9rHWu",
        "colab_type": "text"
      },
      "source": [
        "### Load the convolutional base"
      ]
    },
    {
      "cell_type": "code",
      "metadata": {
        "id": "Y0FgtANCXm_H",
        "colab_type": "code",
        "outputId": "d38cc338-b791-4061-aee5-60fd07c935c9",
        "colab": {
          "base_uri": "https://localhost:8080/",
          "height": 69
        }
      },
      "source": [
        "from keras.applications import Xception\n",
        "\n",
        "conv_base = Xception(\n",
        "    weights='imagenet', \n",
        "    include_top=False, \n",
        "    input_shape=(150, 150, 3))"
      ],
      "execution_count": 4,
      "outputs": [
        {
          "output_type": "stream",
          "text": [
            "Using TensorFlow backend.\n"
          ],
          "name": "stderr"
        },
        {
          "output_type": "stream",
          "text": [
            "Downloading data from https://github.com/fchollet/deep-learning-models/releases/download/v0.4/xception_weights_tf_dim_ordering_tf_kernels_notop.h5\n",
            "83689472/83683744 [==============================] - 1s 0us/step\n"
          ],
          "name": "stdout"
        }
      ]
    },
    {
      "cell_type": "markdown",
      "metadata": {
        "id": "D6OBHOO9q1ou",
        "colab_type": "text"
      },
      "source": [
        "### Freeze the convolutional base"
      ]
    },
    {
      "cell_type": "code",
      "metadata": {
        "id": "UleRo4Dpq6Ld",
        "colab_type": "code",
        "colab": {}
      },
      "source": [
        "conv_base.trainable = False"
      ],
      "execution_count": 0,
      "outputs": []
    },
    {
      "cell_type": "markdown",
      "metadata": {
        "id": "Qfx6PqhPrb7Q",
        "colab_type": "text"
      },
      "source": [
        "### Concatenate the convolutional base and densely connected layers"
      ]
    },
    {
      "cell_type": "code",
      "metadata": {
        "id": "qUpmocDAO3xm",
        "colab_type": "code",
        "colab": {}
      },
      "source": [
        "from keras import layers\n",
        "from keras import models\n",
        "from keras import optimizers\n",
        "\n",
        "model = models.Sequential()\n",
        "model.add(conv_base)\n",
        "model.add(layers.Flatten())\n",
        "model.add(layers.Dense(256, activation='relu'))\n",
        "#model.add(layers.Dropout(0.1))\n",
        "model.add(layers.Dense(1, activation='sigmoid'))"
      ],
      "execution_count": 0,
      "outputs": []
    },
    {
      "cell_type": "code",
      "metadata": {
        "id": "Fh6gZSeAjF7c",
        "colab_type": "code",
        "colab": {
          "base_uri": "https://localhost:8080/",
          "height": 295
        },
        "outputId": "fac20b65-75e3-40ba-c1d7-169f86df3554"
      },
      "source": [
        "model.summary()"
      ],
      "execution_count": 7,
      "outputs": [
        {
          "output_type": "stream",
          "text": [
            "Model: \"sequential_1\"\n",
            "_________________________________________________________________\n",
            "Layer (type)                 Output Shape              Param #   \n",
            "=================================================================\n",
            "xception (Model)             (None, 5, 5, 2048)        20861480  \n",
            "_________________________________________________________________\n",
            "flatten_1 (Flatten)          (None, 51200)             0         \n",
            "_________________________________________________________________\n",
            "dense_1 (Dense)              (None, 256)               13107456  \n",
            "_________________________________________________________________\n",
            "dense_2 (Dense)              (None, 1)                 257       \n",
            "=================================================================\n",
            "Total params: 33,969,193\n",
            "Trainable params: 13,107,713\n",
            "Non-trainable params: 20,861,480\n",
            "_________________________________________________________________\n"
          ],
          "name": "stdout"
        }
      ]
    },
    {
      "cell_type": "markdown",
      "metadata": {
        "id": "eZjBiddhi5Qj",
        "colab_type": "text"
      },
      "source": [
        "## Train the model end to end with frozen convolutional base"
      ]
    },
    {
      "cell_type": "code",
      "metadata": {
        "id": "tfAQlC2Oi41L",
        "colab_type": "code",
        "colab": {
          "base_uri": "https://localhost:8080/",
          "height": 1000
        },
        "outputId": "ddd0b493-88be-486a-facd-da2b0e0f1528"
      },
      "source": [
        "from keras.preprocessing.image import ImageDataGenerator\n",
        "from keras import optimizers\n",
        "\n",
        "# data augmentation\n",
        "\n",
        "train_datagen = ImageDataGenerator(\n",
        "    rescale=1./255, \n",
        "    rotation_range=40,\n",
        "    width_shift_range=0.2,\n",
        "    height_shift_range=0.2,\n",
        "    shear_range=0.2,\n",
        "    zoom_range=0.2,\n",
        "    horizontal_flip=True,\n",
        "    fill_mode='nearest'\n",
        ")\n",
        "\n",
        "train_generator = train_datagen.flow_from_directory(\n",
        "    train_dir,\n",
        "    target_size=(150, 150),\n",
        "    batch_size=20,\n",
        "    class_mode='binary')\n",
        "\n",
        "validation_datagen = ImageDataGenerator(rescale=1./255)\n",
        "\n",
        "validation_generator = validation_datagen.flow_from_directory(\n",
        "    validation_dir,\n",
        "    target_size=(150, 150),\n",
        "    batch_size=20,\n",
        "    class_mode='binary')\n",
        "\n",
        "# compile model\n",
        "\n",
        "model.compile(\n",
        "    loss='binary_crossentropy', \n",
        "    optimizer=optimizers.RMSprop(lr=2e-5), \n",
        "    metrics=['acc'])\n",
        "\n",
        "# train\n",
        "\n",
        "history = model.fit_generator(\n",
        "    train_generator,\n",
        "    steps_per_epoch=100,\n",
        "    epochs=30,\n",
        "    validation_data=validation_generator,\n",
        "    validation_steps=50\n",
        ")"
      ],
      "execution_count": 8,
      "outputs": [
        {
          "output_type": "stream",
          "text": [
            "Found 2000 images belonging to 2 classes.\n",
            "Found 1000 images belonging to 2 classes.\n",
            "Epoch 1/30\n",
            "100/100 [==============================] - 30s 295ms/step - loss: 0.4687 - acc: 0.7815 - val_loss: 0.4119 - val_acc: 0.9630\n",
            "Epoch 2/30\n",
            "100/100 [==============================] - 20s 203ms/step - loss: 0.3495 - acc: 0.8445 - val_loss: 0.3131 - val_acc: 0.9640\n",
            "Epoch 3/30\n",
            "100/100 [==============================] - 20s 201ms/step - loss: 0.3768 - acc: 0.8300 - val_loss: 0.0039 - val_acc: 0.9580\n",
            "Epoch 4/30\n",
            "100/100 [==============================] - 20s 202ms/step - loss: 0.3441 - acc: 0.8370 - val_loss: 0.0308 - val_acc: 0.9660\n",
            "Epoch 5/30\n",
            "100/100 [==============================] - 20s 203ms/step - loss: 0.3522 - acc: 0.8380 - val_loss: 0.1762 - val_acc: 0.9600\n",
            "Epoch 6/30\n",
            "100/100 [==============================] - 20s 201ms/step - loss: 0.3143 - acc: 0.8555 - val_loss: 0.0218 - val_acc: 0.9680\n",
            "Epoch 7/30\n",
            "100/100 [==============================] - 20s 201ms/step - loss: 0.3051 - acc: 0.8610 - val_loss: 0.0016 - val_acc: 0.9700\n",
            "Epoch 8/30\n",
            "100/100 [==============================] - 20s 201ms/step - loss: 0.3071 - acc: 0.8635 - val_loss: 0.1682 - val_acc: 0.9690\n",
            "Epoch 9/30\n",
            "100/100 [==============================] - 20s 201ms/step - loss: 0.3035 - acc: 0.8605 - val_loss: 0.7342 - val_acc: 0.9710\n",
            "Epoch 10/30\n",
            "100/100 [==============================] - 20s 199ms/step - loss: 0.3071 - acc: 0.8610 - val_loss: 2.2141e-05 - val_acc: 0.9680\n",
            "Epoch 11/30\n",
            "100/100 [==============================] - 20s 199ms/step - loss: 0.2943 - acc: 0.8665 - val_loss: 1.2383e-04 - val_acc: 0.9660\n",
            "Epoch 12/30\n",
            "100/100 [==============================] - 20s 200ms/step - loss: 0.2885 - acc: 0.8760 - val_loss: 0.2598 - val_acc: 0.9690\n",
            "Epoch 13/30\n",
            "100/100 [==============================] - 20s 202ms/step - loss: 0.2737 - acc: 0.8865 - val_loss: 0.3893 - val_acc: 0.9720\n",
            "Epoch 14/30\n",
            "100/100 [==============================] - 20s 200ms/step - loss: 0.2794 - acc: 0.8750 - val_loss: 0.1667 - val_acc: 0.9700\n",
            "Epoch 15/30\n",
            "100/100 [==============================] - 20s 204ms/step - loss: 0.2890 - acc: 0.8695 - val_loss: 2.9837e-05 - val_acc: 0.9690\n",
            "Epoch 16/30\n",
            "100/100 [==============================] - 20s 200ms/step - loss: 0.2929 - acc: 0.8775 - val_loss: 0.6229 - val_acc: 0.9710\n",
            "Epoch 17/30\n",
            "100/100 [==============================] - 20s 201ms/step - loss: 0.2858 - acc: 0.8730 - val_loss: 0.4009 - val_acc: 0.9730\n",
            "Epoch 18/30\n",
            "100/100 [==============================] - 20s 199ms/step - loss: 0.2908 - acc: 0.8815 - val_loss: 6.7524e-04 - val_acc: 0.9700\n",
            "Epoch 19/30\n",
            "100/100 [==============================] - 20s 200ms/step - loss: 0.2836 - acc: 0.8780 - val_loss: 0.0010 - val_acc: 0.9690\n",
            "Epoch 20/30\n",
            "100/100 [==============================] - 20s 201ms/step - loss: 0.2786 - acc: 0.8820 - val_loss: 2.9023e-05 - val_acc: 0.9700\n",
            "Epoch 21/30\n",
            "100/100 [==============================] - 20s 202ms/step - loss: 0.2643 - acc: 0.8945 - val_loss: 1.1842 - val_acc: 0.9720\n",
            "Epoch 22/30\n",
            "100/100 [==============================] - 20s 200ms/step - loss: 0.2708 - acc: 0.8875 - val_loss: 0.0378 - val_acc: 0.9710\n",
            "Epoch 23/30\n",
            "100/100 [==============================] - 20s 200ms/step - loss: 0.2829 - acc: 0.8755 - val_loss: 0.0142 - val_acc: 0.9700\n",
            "Epoch 24/30\n",
            "100/100 [==============================] - 20s 200ms/step - loss: 0.2553 - acc: 0.8915 - val_loss: 0.0797 - val_acc: 0.9710\n",
            "Epoch 25/30\n",
            "100/100 [==============================] - 20s 202ms/step - loss: 0.2662 - acc: 0.8825 - val_loss: 0.6715 - val_acc: 0.9710\n",
            "Epoch 26/30\n",
            "100/100 [==============================] - 20s 198ms/step - loss: 0.2517 - acc: 0.9005 - val_loss: 0.0027 - val_acc: 0.9730\n",
            "Epoch 27/30\n",
            "100/100 [==============================] - 20s 198ms/step - loss: 0.2911 - acc: 0.8835 - val_loss: 2.0816e-04 - val_acc: 0.9710\n",
            "Epoch 28/30\n",
            "100/100 [==============================] - 20s 200ms/step - loss: 0.2510 - acc: 0.8905 - val_loss: 5.6015e-06 - val_acc: 0.9710\n",
            "Epoch 29/30\n",
            "100/100 [==============================] - 20s 199ms/step - loss: 0.2660 - acc: 0.8920 - val_loss: 0.5467 - val_acc: 0.9730\n",
            "Epoch 30/30\n",
            "100/100 [==============================] - 20s 200ms/step - loss: 0.2637 - acc: 0.8885 - val_loss: 1.3069e-06 - val_acc: 0.9720\n"
          ],
          "name": "stdout"
        }
      ]
    },
    {
      "cell_type": "markdown",
      "metadata": {
        "id": "xqRc_vHKc92U",
        "colab_type": "text"
      },
      "source": [
        "## Display curves of loss and accuracy during training"
      ]
    },
    {
      "cell_type": "code",
      "metadata": {
        "id": "ybWwdzz9bwuQ",
        "colab_type": "code",
        "colab": {
          "base_uri": "https://localhost:8080/",
          "height": 545
        },
        "outputId": "a27baea6-ebfa-4983-d8b1-f79af8e3114a"
      },
      "source": [
        "%matplotlib inline\n",
        "\n",
        "import matplotlib.pyplot as plt\n",
        "\n",
        "acc = history.history['acc']\n",
        "val_acc = history.history['val_acc']\n",
        "\n",
        "loss = history.history['loss']\n",
        "val_loss = history.history['val_loss']\n",
        "\n",
        "epochs = range(1, len(acc) + 1)\n",
        "\n",
        "# training and validation accuracy\n",
        "\n",
        "plt.plot(epochs, acc, 'bo', label='training acc')\n",
        "plt.plot(epochs, val_acc, 'b', label='validation acc')\n",
        "plt.title('training and validation accuracy')\n",
        "plt.legend()\n",
        "\n",
        "plt.figure()\n",
        "\n",
        "# training and validation loss\n",
        "\n",
        "plt.plot(epochs, loss, 'bo', label='training loss')\n",
        "plt.plot(epochs, val_loss, 'b', label='validation loss')\n",
        "plt.title('training and validation loss')\n",
        "plt.legend()\n",
        "\n",
        "plt.show()"
      ],
      "execution_count": 9,
      "outputs": [
        {
          "output_type": "display_data",
          "data": {
            "image/png": "[encoded data removed]",
            "text/plain": [
              "<Figure size 432x288 with 1 Axes>"
            ]
          },
          "metadata": {
            "tags": [],
            "needs_background": "light"
          }
        },
        {
          "output_type": "display_data",
          "data": {
            "image/png": "[encoded data removed]",
            "text/plain": [
              "<Figure size 432x288 with 1 Axes>"
            ]
          },
          "metadata": {
            "tags": [],
            "needs_background": "light"
          }
        }
      ]
    },
    {
      "cell_type": "markdown",
      "metadata": {
        "id": "lOWsxpey8lN0",
        "colab_type": "text"
      },
      "source": [
        "## Fine-tuning"
      ]
    },
    {
      "cell_type": "code",
      "metadata": {
        "id": "PwkVMx8N8qMw",
        "colab_type": "code",
        "colab": {}
      },
      "source": [
        "conv_base.trainable = True\n",
        "\n",
        "set_trainable = False\n",
        "for layer in conv_base.layers:\n",
        "  if layer.name == 'conv2d_4':\n",
        "    set_trainable = True\n",
        "  if set_trainable:\n",
        "    layer.trainable = True\n",
        "  else:\n",
        "    layer.trainable = False"
      ],
      "execution_count": 0,
      "outputs": []
    },
    {
      "cell_type": "code",
      "metadata": {
        "id": "DyN-J7rs9cvo",
        "colab_type": "code",
        "colab": {
          "base_uri": "https://localhost:8080/",
          "height": 1000
        },
        "outputId": "ff42de77-7f69-4944-c8e4-74af2fddc8dd"
      },
      "source": [
        "# compile model\n",
        "\n",
        "model.compile(\n",
        "    loss='binary_crossentropy',\n",
        "    #\n",
        "    # choose a smaller learning rate\n",
        "    #\n",
        "    optimizer=optimizers.RMSprop(lr=1e-5), \n",
        "    metrics=['acc'])\n",
        "\n",
        "# train\n",
        "\n",
        "history = model.fit_generator(\n",
        "    train_generator,\n",
        "    steps_per_epoch=100,\n",
        "    epochs=100,\n",
        "    validation_data=validation_generator,\n",
        "    validation_steps=50)"
      ],
      "execution_count": 11,
      "outputs": [
        {
          "output_type": "stream",
          "text": [
            "Epoch 1/100\n",
            "100/100 [==============================] - 25s 249ms/step - loss: 0.2536 - acc: 0.8945 - val_loss: 0.2652 - val_acc: 0.9460\n",
            "Epoch 2/100\n",
            "100/100 [==============================] - 21s 208ms/step - loss: 0.2408 - acc: 0.8980 - val_loss: 0.0337 - val_acc: 0.9380\n",
            "Epoch 3/100\n",
            "100/100 [==============================] - 21s 206ms/step - loss: 0.2354 - acc: 0.9040 - val_loss: 0.1649 - val_acc: 0.9340\n",
            "Epoch 4/100\n",
            "100/100 [==============================] - 21s 206ms/step - loss: 0.2227 - acc: 0.9030 - val_loss: 0.0873 - val_acc: 0.9400\n",
            "Epoch 5/100\n",
            "100/100 [==============================] - 21s 208ms/step - loss: 0.2117 - acc: 0.9085 - val_loss: 0.1986 - val_acc: 0.9430\n",
            "Epoch 6/100\n",
            "100/100 [==============================] - 21s 209ms/step - loss: 0.2284 - acc: 0.9050 - val_loss: 0.1831 - val_acc: 0.9400\n",
            "Epoch 7/100\n",
            "100/100 [==============================] - 21s 207ms/step - loss: 0.2238 - acc: 0.9130 - val_loss: 0.3474 - val_acc: 0.9340\n",
            "Epoch 8/100\n",
            "100/100 [==============================] - 21s 208ms/step - loss: 0.2306 - acc: 0.9050 - val_loss: 0.4888 - val_acc: 0.9370\n",
            "Epoch 9/100\n",
            "100/100 [==============================] - 21s 207ms/step - loss: 0.2139 - acc: 0.9150 - val_loss: 0.3516 - val_acc: 0.9370\n",
            "Epoch 10/100\n",
            "100/100 [==============================] - 21s 208ms/step - loss: 0.2186 - acc: 0.9165 - val_loss: 0.2471 - val_acc: 0.9360\n",
            "Epoch 11/100\n",
            "100/100 [==============================] - 21s 207ms/step - loss: 0.2140 - acc: 0.9080 - val_loss: 0.0937 - val_acc: 0.9410\n",
            "Epoch 12/100\n",
            "100/100 [==============================] - 21s 206ms/step - loss: 0.2063 - acc: 0.9205 - val_loss: 0.1360 - val_acc: 0.9440\n",
            "Epoch 13/100\n",
            "100/100 [==============================] - 21s 206ms/step - loss: 0.2260 - acc: 0.9220 - val_loss: 0.2740 - val_acc: 0.9370\n",
            "Epoch 14/100\n",
            "100/100 [==============================] - 21s 209ms/step - loss: 0.2128 - acc: 0.9055 - val_loss: 0.6080 - val_acc: 0.9230\n",
            "Epoch 15/100\n",
            "100/100 [==============================] - 21s 207ms/step - loss: 0.1794 - acc: 0.9270 - val_loss: 0.0216 - val_acc: 0.9350\n",
            "Epoch 16/100\n",
            "100/100 [==============================] - 21s 207ms/step - loss: 0.1841 - acc: 0.9205 - val_loss: 0.2335 - val_acc: 0.9130\n",
            "Epoch 17/100\n",
            "100/100 [==============================] - 21s 207ms/step - loss: 0.2036 - acc: 0.9175 - val_loss: 0.0697 - val_acc: 0.9330\n",
            "Epoch 18/100\n",
            "100/100 [==============================] - 21s 209ms/step - loss: 0.1780 - acc: 0.9260 - val_loss: 0.1579 - val_acc: 0.9390\n",
            "Epoch 19/100\n",
            "100/100 [==============================] - 21s 208ms/step - loss: 0.2145 - acc: 0.9170 - val_loss: 0.0466 - val_acc: 0.9410\n",
            "Epoch 20/100\n",
            "100/100 [==============================] - 21s 206ms/step - loss: 0.1949 - acc: 0.9170 - val_loss: 0.0076 - val_acc: 0.9300\n",
            "Epoch 21/100\n",
            "100/100 [==============================] - 21s 207ms/step - loss: 0.2121 - acc: 0.9140 - val_loss: 0.0554 - val_acc: 0.9350\n",
            "Epoch 22/100\n",
            "100/100 [==============================] - 21s 207ms/step - loss: 0.1761 - acc: 0.9315 - val_loss: 0.0583 - val_acc: 0.9370\n",
            "Epoch 23/100\n",
            "100/100 [==============================] - 20s 205ms/step - loss: 0.1785 - acc: 0.9315 - val_loss: 0.0918 - val_acc: 0.9340\n",
            "Epoch 24/100\n",
            "100/100 [==============================] - 21s 205ms/step - loss: 0.1888 - acc: 0.9255 - val_loss: 0.5176 - val_acc: 0.9480\n",
            "Epoch 25/100\n",
            "100/100 [==============================] - 21s 206ms/step - loss: 0.1800 - acc: 0.9290 - val_loss: 0.3237 - val_acc: 0.9440\n",
            "Epoch 26/100\n",
            "100/100 [==============================] - 21s 206ms/step - loss: 0.1800 - acc: 0.9225 - val_loss: 0.1126 - val_acc: 0.9350\n",
            "Epoch 27/100\n",
            "100/100 [==============================] - 21s 209ms/step - loss: 0.1804 - acc: 0.9290 - val_loss: 0.0834 - val_acc: 0.9230\n",
            "Epoch 28/100\n",
            "100/100 [==============================] - 21s 209ms/step - loss: 0.1681 - acc: 0.9370 - val_loss: 0.0125 - val_acc: 0.9320\n",
            "Epoch 29/100\n",
            "100/100 [==============================] - 21s 211ms/step - loss: 0.1682 - acc: 0.9315 - val_loss: 0.0369 - val_acc: 0.9380\n",
            "Epoch 30/100\n",
            "100/100 [==============================] - 21s 210ms/step - loss: 0.1767 - acc: 0.9305 - val_loss: 0.0417 - val_acc: 0.9440\n",
            "Epoch 31/100\n",
            "100/100 [==============================] - 21s 209ms/step - loss: 0.1634 - acc: 0.9370 - val_loss: 0.7875 - val_acc: 0.9430\n",
            "Epoch 32/100\n",
            "100/100 [==============================] - 21s 210ms/step - loss: 0.1535 - acc: 0.9435 - val_loss: 0.0453 - val_acc: 0.9350\n",
            "Epoch 33/100\n",
            "100/100 [==============================] - 21s 211ms/step - loss: 0.1791 - acc: 0.9250 - val_loss: 0.0690 - val_acc: 0.9430\n",
            "Epoch 34/100\n",
            "100/100 [==============================] - 21s 212ms/step - loss: 0.1680 - acc: 0.9350 - val_loss: 0.2159 - val_acc: 0.9460\n",
            "Epoch 35/100\n",
            "100/100 [==============================] - 21s 210ms/step - loss: 0.1651 - acc: 0.9295 - val_loss: 0.1827 - val_acc: 0.9300\n",
            "Epoch 36/100\n",
            "100/100 [==============================] - 21s 210ms/step - loss: 0.1516 - acc: 0.9405 - val_loss: 0.1459 - val_acc: 0.9360\n",
            "Epoch 37/100\n",
            "100/100 [==============================] - 21s 211ms/step - loss: 0.1647 - acc: 0.9390 - val_loss: 0.2898 - val_acc: 0.9410\n",
            "Epoch 38/100\n",
            "100/100 [==============================] - 21s 210ms/step - loss: 0.1557 - acc: 0.9345 - val_loss: 0.5092 - val_acc: 0.9330\n",
            "Epoch 39/100\n",
            "100/100 [==============================] - 21s 210ms/step - loss: 0.1602 - acc: 0.9400 - val_loss: 0.1687 - val_acc: 0.9360\n",
            "Epoch 40/100\n",
            "100/100 [==============================] - 21s 211ms/step - loss: 0.1692 - acc: 0.9325 - val_loss: 0.1011 - val_acc: 0.9400\n",
            "Epoch 41/100\n",
            "100/100 [==============================] - 21s 211ms/step - loss: 0.1478 - acc: 0.9395 - val_loss: 0.5613 - val_acc: 0.9370\n",
            "Epoch 42/100\n",
            "100/100 [==============================] - 21s 210ms/step - loss: 0.1493 - acc: 0.9470 - val_loss: 0.0849 - val_acc: 0.9430\n",
            "Epoch 43/100\n",
            "100/100 [==============================] - 21s 211ms/step - loss: 0.1529 - acc: 0.9390 - val_loss: 0.1488 - val_acc: 0.9480\n",
            "Epoch 44/100\n",
            "100/100 [==============================] - 21s 213ms/step - loss: 0.1435 - acc: 0.9475 - val_loss: 0.5602 - val_acc: 0.9440\n",
            "Epoch 45/100\n",
            "100/100 [==============================] - 21s 211ms/step - loss: 0.1358 - acc: 0.9480 - val_loss: 0.1591 - val_acc: 0.9460\n",
            "Epoch 46/100\n",
            "100/100 [==============================] - 21s 212ms/step - loss: 0.1613 - acc: 0.9410 - val_loss: 0.1768 - val_acc: 0.9470\n",
            "Epoch 47/100\n",
            "100/100 [==============================] - 21s 211ms/step - loss: 0.1503 - acc: 0.9445 - val_loss: 0.2168 - val_acc: 0.9470\n",
            "Epoch 48/100\n",
            "100/100 [==============================] - 21s 210ms/step - loss: 0.1425 - acc: 0.9455 - val_loss: 0.0336 - val_acc: 0.9420\n",
            "Epoch 49/100\n",
            "100/100 [==============================] - 21s 211ms/step - loss: 0.1319 - acc: 0.9475 - val_loss: 0.1538 - val_acc: 0.9320\n",
            "Epoch 50/100\n",
            "100/100 [==============================] - 21s 210ms/step - loss: 0.1416 - acc: 0.9465 - val_loss: 0.0495 - val_acc: 0.9450\n",
            "Epoch 51/100\n",
            "100/100 [==============================] - 21s 210ms/step - loss: 0.1363 - acc: 0.9470 - val_loss: 0.2054 - val_acc: 0.9490\n",
            "Epoch 52/100\n",
            "100/100 [==============================] - 21s 212ms/step - loss: 0.1375 - acc: 0.9475 - val_loss: 0.0117 - val_acc: 0.9440\n",
            "Epoch 53/100\n",
            "100/100 [==============================] - 21s 211ms/step - loss: 0.1259 - acc: 0.9475 - val_loss: 0.0379 - val_acc: 0.9480\n",
            "Epoch 54/100\n",
            "100/100 [==============================] - 21s 212ms/step - loss: 0.1210 - acc: 0.9510 - val_loss: 0.1829 - val_acc: 0.9440\n",
            "Epoch 55/100\n",
            "100/100 [==============================] - 21s 210ms/step - loss: 0.1438 - acc: 0.9420 - val_loss: 0.0802 - val_acc: 0.9430\n",
            "Epoch 56/100\n",
            "100/100 [==============================] - 21s 212ms/step - loss: 0.1290 - acc: 0.9490 - val_loss: 0.0147 - val_acc: 0.9030\n",
            "Epoch 57/100\n",
            "100/100 [==============================] - 21s 212ms/step - loss: 0.1346 - acc: 0.9525 - val_loss: 0.2154 - val_acc: 0.9230\n",
            "Epoch 58/100\n",
            "100/100 [==============================] - 21s 211ms/step - loss: 0.1255 - acc: 0.9510 - val_loss: 0.3995 - val_acc: 0.9480\n",
            "Epoch 59/100\n",
            "100/100 [==============================] - 21s 213ms/step - loss: 0.1397 - acc: 0.9445 - val_loss: 0.0390 - val_acc: 0.9390\n",
            "Epoch 60/100\n",
            "100/100 [==============================] - 21s 212ms/step - loss: 0.1377 - acc: 0.9390 - val_loss: 0.5560 - val_acc: 0.9200\n",
            "Epoch 61/100\n",
            "100/100 [==============================] - 21s 210ms/step - loss: 0.1249 - acc: 0.9500 - val_loss: 0.3377 - val_acc: 0.9450\n",
            "Epoch 62/100\n",
            "100/100 [==============================] - 21s 211ms/step - loss: 0.1275 - acc: 0.9500 - val_loss: 0.5818 - val_acc: 0.9310\n",
            "Epoch 63/100\n",
            "100/100 [==============================] - 21s 213ms/step - loss: 0.1256 - acc: 0.9535 - val_loss: 0.0953 - val_acc: 0.9420\n",
            "Epoch 64/100\n",
            "100/100 [==============================] - 21s 212ms/step - loss: 0.1296 - acc: 0.9490 - val_loss: 0.0572 - val_acc: 0.9240\n",
            "Epoch 65/100\n",
            "100/100 [==============================] - 21s 211ms/step - loss: 0.1269 - acc: 0.9495 - val_loss: 0.0618 - val_acc: 0.9440\n",
            "Epoch 66/100\n",
            "100/100 [==============================] - 21s 211ms/step - loss: 0.1115 - acc: 0.9555 - val_loss: 0.0190 - val_acc: 0.9450\n",
            "Epoch 67/100\n",
            "100/100 [==============================] - 21s 212ms/step - loss: 0.1082 - acc: 0.9590 - val_loss: 0.1824 - val_acc: 0.9440\n",
            "Epoch 68/100\n",
            "100/100 [==============================] - 21s 213ms/step - loss: 0.1037 - acc: 0.9610 - val_loss: 0.0041 - val_acc: 0.9410\n",
            "Epoch 69/100\n",
            "100/100 [==============================] - 21s 210ms/step - loss: 0.1228 - acc: 0.9545 - val_loss: 0.0538 - val_acc: 0.9470\n",
            "Epoch 70/100\n",
            "100/100 [==============================] - 21s 211ms/step - loss: 0.1263 - acc: 0.9515 - val_loss: 0.1002 - val_acc: 0.9450\n",
            "Epoch 71/100\n",
            "100/100 [==============================] - 21s 212ms/step - loss: 0.1325 - acc: 0.9515 - val_loss: 0.2446 - val_acc: 0.9470\n",
            "Epoch 72/100\n",
            "100/100 [==============================] - 21s 212ms/step - loss: 0.1195 - acc: 0.9585 - val_loss: 0.1445 - val_acc: 0.9430\n",
            "Epoch 73/100\n",
            "100/100 [==============================] - 21s 212ms/step - loss: 0.1080 - acc: 0.9610 - val_loss: 0.0784 - val_acc: 0.9410\n",
            "Epoch 74/100\n",
            "100/100 [==============================] - 21s 213ms/step - loss: 0.1064 - acc: 0.9610 - val_loss: 0.1010 - val_acc: 0.9460\n",
            "Epoch 75/100\n",
            "100/100 [==============================] - 21s 213ms/step - loss: 0.1153 - acc: 0.9555 - val_loss: 0.0842 - val_acc: 0.9350\n",
            "Epoch 76/100\n",
            "100/100 [==============================] - 21s 212ms/step - loss: 0.1227 - acc: 0.9510 - val_loss: 0.1418 - val_acc: 0.9520\n",
            "Epoch 77/100\n",
            "100/100 [==============================] - 21s 213ms/step - loss: 0.1236 - acc: 0.9595 - val_loss: 0.3769 - val_acc: 0.9370\n",
            "Epoch 78/100\n",
            "100/100 [==============================] - 21s 211ms/step - loss: 0.1123 - acc: 0.9540 - val_loss: 0.2337 - val_acc: 0.9390\n",
            "Epoch 79/100\n",
            "100/100 [==============================] - 21s 214ms/step - loss: 0.1065 - acc: 0.9640 - val_loss: 0.2718 - val_acc: 0.9390\n",
            "Epoch 80/100\n",
            "100/100 [==============================] - 21s 213ms/step - loss: 0.1358 - acc: 0.9565 - val_loss: 0.1599 - val_acc: 0.9440\n",
            "Epoch 81/100\n",
            "100/100 [==============================] - 21s 214ms/step - loss: 0.1193 - acc: 0.9520 - val_loss: 0.0298 - val_acc: 0.9470\n",
            "Epoch 82/100\n",
            "100/100 [==============================] - 21s 211ms/step - loss: 0.1219 - acc: 0.9565 - val_loss: 0.2007 - val_acc: 0.9390\n",
            "Epoch 83/100\n",
            "100/100 [==============================] - 21s 212ms/step - loss: 0.1250 - acc: 0.9585 - val_loss: 0.0107 - val_acc: 0.9510\n",
            "Epoch 84/100\n",
            "100/100 [==============================] - 21s 210ms/step - loss: 0.0965 - acc: 0.9640 - val_loss: 0.5494 - val_acc: 0.9430\n",
            "Epoch 85/100\n",
            "100/100 [==============================] - 21s 210ms/step - loss: 0.1077 - acc: 0.9565 - val_loss: 0.3706 - val_acc: 0.9490\n",
            "Epoch 86/100\n",
            "100/100 [==============================] - 21s 211ms/step - loss: 0.0934 - acc: 0.9610 - val_loss: 0.0751 - val_acc: 0.9360\n",
            "Epoch 87/100\n",
            "100/100 [==============================] - 21s 209ms/step - loss: 0.0938 - acc: 0.9645 - val_loss: 0.2518 - val_acc: 0.9450\n",
            "Epoch 88/100\n",
            "100/100 [==============================] - 21s 210ms/step - loss: 0.1180 - acc: 0.9575 - val_loss: 0.4743 - val_acc: 0.9290\n",
            "Epoch 89/100\n",
            "100/100 [==============================] - 21s 207ms/step - loss: 0.1005 - acc: 0.9670 - val_loss: 0.3615 - val_acc: 0.9420\n",
            "Epoch 90/100\n",
            "100/100 [==============================] - 21s 207ms/step - loss: 0.1145 - acc: 0.9595 - val_loss: 0.0994 - val_acc: 0.9380\n",
            "Epoch 91/100\n",
            "100/100 [==============================] - 20s 204ms/step - loss: 0.1046 - acc: 0.9610 - val_loss: 0.1553 - val_acc: 0.9400\n",
            "Epoch 92/100\n",
            "100/100 [==============================] - 21s 206ms/step - loss: 0.1318 - acc: 0.9525 - val_loss: 0.0398 - val_acc: 0.9340\n",
            "Epoch 93/100\n",
            "100/100 [==============================] - 20s 203ms/step - loss: 0.1120 - acc: 0.9550 - val_loss: 0.0059 - val_acc: 0.9420\n",
            "Epoch 94/100\n",
            "100/100 [==============================] - 21s 206ms/step - loss: 0.0887 - acc: 0.9670 - val_loss: 0.0037 - val_acc: 0.9410\n",
            "Epoch 95/100\n",
            "100/100 [==============================] - 20s 203ms/step - loss: 0.1239 - acc: 0.9565 - val_loss: 0.5935 - val_acc: 0.9290\n",
            "Epoch 96/100\n",
            "100/100 [==============================] - 20s 202ms/step - loss: 0.0991 - acc: 0.9650 - val_loss: 0.2135 - val_acc: 0.9350\n",
            "Epoch 97/100\n",
            "100/100 [==============================] - 20s 201ms/step - loss: 0.0958 - acc: 0.9630 - val_loss: 0.0591 - val_acc: 0.9250\n",
            "Epoch 98/100\n",
            "100/100 [==============================] - 20s 203ms/step - loss: 0.1174 - acc: 0.9585 - val_loss: 0.0262 - val_acc: 0.9290\n",
            "Epoch 99/100\n",
            "100/100 [==============================] - 20s 202ms/step - loss: 0.1056 - acc: 0.9675 - val_loss: 0.8214 - val_acc: 0.9340\n",
            "Epoch 100/100\n",
            "100/100 [==============================] - 20s 202ms/step - loss: 0.1049 - acc: 0.9650 - val_loss: 0.0763 - val_acc: 0.9370\n"
          ],
          "name": "stdout"
        }
      ]
    },
    {
      "cell_type": "markdown",
      "metadata": {
        "id": "eVBQgh5M-Rtz",
        "colab_type": "text"
      },
      "source": [
        "## Display learning curves during fine-tuning"
      ]
    },
    {
      "cell_type": "code",
      "metadata": {
        "id": "mbkIw7Ie-NP4",
        "colab_type": "code",
        "colab": {
          "base_uri": "https://localhost:8080/",
          "height": 545
        },
        "outputId": "d8072d61-6c08-49af-fb6e-813a429af88a"
      },
      "source": [
        "%matplotlib inline\n",
        "\n",
        "import matplotlib.pyplot as plt\n",
        "\n",
        "acc = history.history['acc']\n",
        "val_acc = history.history['val_acc']\n",
        "\n",
        "loss = history.history['loss']\n",
        "val_loss = history.history['val_loss']\n",
        "\n",
        "epochs = range(1, len(acc) + 1)\n",
        "\n",
        "# training and validation accuracy\n",
        "\n",
        "plt.plot(epochs, acc, 'bo', label='training acc')\n",
        "plt.plot(epochs, val_acc, 'b', label='validation acc')\n",
        "plt.title('training and validation accuracy')\n",
        "plt.legend()\n",
        "\n",
        "plt.figure()\n",
        "\n",
        "# training and validation loss\n",
        "\n",
        "plt.plot(epochs, loss, 'bo', label='training loss')\n",
        "plt.plot(epochs, val_loss, 'b', label='validation loss')\n",
        "plt.title('training and validation loss')\n",
        "plt.legend()\n",
        "\n",
        "plt.show()"
      ],
      "execution_count": 12,
      "outputs": [
        {
          "output_type": "display_data",
          "data": {
            "image/png": "[encoded data removed]",
            "text/plain": [
              "<Figure size 432x288 with 1 Axes>"
            ]
          },
          "metadata": {
            "tags": [],
            "needs_background": "light"
          }
        },
        {
          "output_type": "display_data",
          "data": {
            "image/png": "[encoded data removed]",
            "text/plain": [
              "<Figure size 432x288 with 1 Axes>"
            ]
          },
          "metadata": {
            "tags": [],
            "needs_background": "light"
          }
        }
      ]
    },
    {
      "cell_type": "markdown",
      "metadata": {
        "id": "obQi6N4ZShdi",
        "colab_type": "text"
      },
      "source": [
        "This looks like overfitting. I should try  adding dropout for the densely connected layer."
      ]
    },
    {
      "cell_type": "markdown",
      "metadata": {
        "id": "he3Nw6TOJwjx",
        "colab_type": "text"
      },
      "source": [
        "## Print out validation loss and accuracy"
      ]
    },
    {
      "cell_type": "code",
      "metadata": {
        "id": "SVQtrk7uJdhl",
        "colab_type": "code",
        "colab": {}
      },
      "source": [
        "val_loss, val_acc = model.evaluate_generator(validation_generator, steps=50)"
      ],
      "execution_count": 0,
      "outputs": []
    },
    {
      "cell_type": "code",
      "metadata": {
        "id": "HpdddLi1SUMe",
        "colab_type": "code",
        "colab": {
          "base_uri": "https://localhost:8080/",
          "height": 52
        },
        "outputId": "3992f516-8099-4f45-c200-2d7f00fef036"
      },
      "source": [
        "print(\"Validation loss:\", val_loss)\n",
        "print(\"Validation accuracy:\", val_acc)"
      ],
      "execution_count": 14,
      "outputs": [
        {
          "output_type": "stream",
          "text": [
            "Validation loss: 0.17444881796836853\n",
            "Validation accuracy: 0.9369999766349792\n"
          ],
          "name": "stdout"
        }
      ]
    },
    {
      "cell_type": "markdown",
      "metadata": {
        "id": "7Ww756WToby8",
        "colab_type": "text"
      },
      "source": [
        "## Save the model"
      ]
    },
    {
      "cell_type": "code",
      "metadata": {
        "id": "0lTUpUdwobKW",
        "colab_type": "code",
        "colab": {}
      },
      "source": [
        "model_fname = 'cats_and_dogs_small_4.h5' \n",
        "model.save(model_fname)"
      ],
      "execution_count": 0,
      "outputs": []
    },
    {
      "cell_type": "code",
      "metadata": {
        "id": "YhEoI8ZTok-X",
        "colab_type": "code",
        "colab": {
          "base_uri": "https://localhost:8080/",
          "height": 451
        },
        "outputId": "434468af-be07-4ffc-88c8-7f746ab9f1c6"
      },
      "source": [
        "from google.colab import files\n",
        "\n",
        "with open(model_fname, 'r') as f:\n",
        "  files.download(model_fname)"
      ],
      "execution_count": 16,
      "outputs": [
        {
          "output_type": "stream",
          "text": [
            "----------------------------------------\n",
            "Exception happened during processing of request from ('::ffff:127.0.0.1', 43272, 0, 0)\n",
            "Traceback (most recent call last):\n",
            "  File \"/usr/lib/python3.6/socketserver.py\", line 320, in _handle_request_noblock\n",
            "    self.process_request(request, client_address)\n",
            "  File \"/usr/lib/python3.6/socketserver.py\", line 351, in process_request\n",
            "    self.finish_request(request, client_address)\n",
            "  File \"/usr/lib/python3.6/socketserver.py\", line 364, in finish_request\n",
            "    self.RequestHandlerClass(request, client_address, self)\n",
            "  File \"/usr/lib/python3.6/socketserver.py\", line 724, in __init__\n",
            "    self.handle()\n",
            "  File \"/usr/lib/python3.6/http/server.py\", line 418, in handle\n",
            "    self.handle_one_request()\n",
            "  File \"/usr/lib/python3.6/http/server.py\", line 406, in handle_one_request\n",
            "    method()\n",
            "  File \"/usr/lib/python3.6/http/server.py\", line 639, in do_GET\n",
            "    self.copyfile(f, self.wfile)\n",
            "  File \"/usr/lib/python3.6/http/server.py\", line 800, in copyfile\n",
            "    shutil.copyfileobj(source, outputfile)\n",
            "  File \"/usr/lib/python3.6/shutil.py\", line 82, in copyfileobj\n",
            "    fdst.write(buf)\n",
            "  File \"/usr/lib/python3.6/socketserver.py\", line 803, in write\n",
            "    self._sock.sendall(b)\n",
            "ConnectionResetError: [Errno 104] Connection reset by peer\n",
            "----------------------------------------\n"
          ],
          "name": "stderr"
        }
      ]
    }
  ]
}