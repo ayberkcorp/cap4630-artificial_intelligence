{
  "nbformat": 4,
  "nbformat_minor": 0,
  "metadata": {
    "colab": {
      "name": "Problem3B.ipynb",
      "provenance": [],
      "collapsed_sections": [],
      "include_colab_link": true
    },
    "kernelspec": {
      "name": "python3",
      "display_name": "Python 3"
    },
    "accelerator": "GPU"
  },
  "cells": [
    {
      "cell_type": "markdown",
      "metadata": {
        "id": "view-in-github",
        "colab_type": "text"
      },
      "source": [
        "<a href=\"https://colab.research.google.com/github/ayberkcorp/cap4630-artificial_intelligence/blob/master/HW_4/Problem3B.ipynb\" target=\"_parent\"><img src=\"https://colab.research.google.com/assets/colab-badge.svg\" alt=\"Open In Colab\"/></a>"
      ]
    },
    {
      "cell_type": "markdown",
      "metadata": {
        "id": "KSrgMJ5vKFzQ",
        "colab_type": "text"
      },
      "source": [
        "# Fine-tuning Xception "
      ]
    },
    {
      "cell_type": "markdown",
      "metadata": {
        "id": "TIW7bZaAK-Hf",
        "colab_type": "text"
      },
      "source": [
        "This is based on section 5.3 *Using a pretrained convnet* of the book *Deep learning with Python* by Francois Chollet. I have made several changes to the code. I use the data that is already provided by Google. I don't download the data from Kaggle as in the deep learning book."
      ]
    },
    {
      "cell_type": "markdown",
      "metadata": {
        "id": "nsBq__dVo2pj",
        "colab_type": "text"
      },
      "source": [
        "## Feature extraction"
      ]
    },
    {
      "cell_type": "markdown",
      "metadata": {
        "id": "0g6ETAM9o54M",
        "colab_type": "text"
      },
      "source": [
        "Feature extraction consists of using the representations learned by a previous network to extract interesting features from new samples. These features are then run through a new classifier, which is trained from scratch.\n",
        "\n",
        "We will use here the convolutional base of the Xception model to extract the features. We will feed these features to a densely connected classifier with dropout. We will fine-tune some layers."
      ]
    },
    {
      "cell_type": "markdown",
      "metadata": {
        "id": "BqIG8QHMLNOn",
        "colab_type": "text"
      },
      "source": [
        "## Download the data"
      ]
    },
    {
      "cell_type": "markdown",
      "metadata": {
        "id": "t3I1jd7cKV6_",
        "colab_type": "text"
      },
      "source": [
        "Download the example data, a zip. of 2,000 JPG pictures of cats and dogs and extract it locally in ```/tmp```.\n",
        "\n"
      ]
    },
    {
      "cell_type": "code",
      "metadata": {
        "id": "JWjprHEXJ5Qi",
        "colab_type": "code",
        "outputId": "ed423e0a-e04f-479e-b26d-8776d04da7d2",
        "colab": {
          "base_uri": "https://localhost:8080/",
          "height": 208
        }
      },
      "source": [
        "!wget --no-check-certificate \\\n",
        "    https://storage.googleapis.com/mledu-datasets/cats_and_dogs_filtered.zip \\\n",
        "    -O /tmp/cats_and_dogs_filtered.zip"
      ],
      "execution_count": 1,
      "outputs": [
        {
          "output_type": "stream",
          "text": [
            "--2020-04-23 21:28:20--  https://storage.googleapis.com/mledu-datasets/cats_and_dogs_filtered.zip\n",
            "Resolving storage.googleapis.com (storage.googleapis.com)... 173.194.69.128, 2a00:1450:4013:c00::80\n",
            "Connecting to storage.googleapis.com (storage.googleapis.com)|173.194.69.128|:443... connected.\n",
            "HTTP request sent, awaiting response... 200 OK\n",
            "Length: 68606236 (65M) [application/zip]\n",
            "Saving to: ‘/tmp/cats_and_dogs_filtered.zip’\n",
            "\n",
            "\r          /tmp/cats   0%[                    ]       0  --.-KB/s               \r         /tmp/cats_  23%[===>                ]  15.26M  76.3MB/s               \r        /tmp/cats_a  56%[==========>         ]  36.93M  92.3MB/s               \r/tmp/cats_and_dogs_ 100%[===================>]  65.43M   125MB/s    in 0.5s    \n",
            "\n",
            "2020-04-23 21:28:21 (125 MB/s) - ‘/tmp/cats_and_dogs_filtered.zip’ saved [68606236/68606236]\n",
            "\n"
          ],
          "name": "stdout"
        }
      ]
    },
    {
      "cell_type": "code",
      "metadata": {
        "id": "WvoHtdA-K6Rw",
        "colab_type": "code",
        "colab": {}
      },
      "source": [
        "import os\n",
        "import zipfile\n",
        "\n",
        "local_zip = '/tmp/cats_and_dogs_filtered.zip'\n",
        "zip_ref = zipfile.ZipFile(local_zip, 'r')\n",
        "zip_ref.extractall('/tmp')\n",
        "zip_ref.close()"
      ],
      "execution_count": 0,
      "outputs": []
    },
    {
      "cell_type": "markdown",
      "metadata": {
        "id": "shZiOBnJMyy_",
        "colab_type": "text"
      },
      "source": [
        "Note that the data provided by Google does not have a test set."
      ]
    },
    {
      "cell_type": "code",
      "metadata": {
        "id": "dL8ikM89LlsH",
        "colab_type": "code",
        "colab": {}
      },
      "source": [
        "base_dir = '/tmp/cats_and_dogs_filtered'\n",
        "train_dir = os.path.join(base_dir, 'train')\n",
        "validation_dir = os.path.join(base_dir, 'validation')\n",
        "\n",
        "# Directory with our training cat pictures\n",
        "train_cats_dir = os.path.join(train_dir, 'cats')\n",
        "\n",
        "# Directory with our training dog pictures\n",
        "train_dogs_dir = os.path.join(train_dir, 'dogs')\n",
        "\n",
        "# Directory with our validation cat pictures\n",
        "validation_cats_dir = os.path.join(validation_dir, 'cats')\n",
        "\n",
        "# Directory with our validation dog pictures\n",
        "validation_dogs_dir = os.path.join(validation_dir, 'dogs')"
      ],
      "execution_count": 0,
      "outputs": []
    },
    {
      "cell_type": "markdown",
      "metadata": {
        "id": "inyP8bcdXnn-",
        "colab_type": "text"
      },
      "source": [
        "## Build network with Xception convolution base and custom densely connected layers"
      ]
    },
    {
      "cell_type": "markdown",
      "metadata": {
        "id": "kQ48W5T9rHWu",
        "colab_type": "text"
      },
      "source": [
        "### Load the convolutional base"
      ]
    },
    {
      "cell_type": "code",
      "metadata": {
        "id": "Y0FgtANCXm_H",
        "colab_type": "code",
        "outputId": "efdc808f-d45c-4412-d49c-66966d967341",
        "colab": {
          "base_uri": "https://localhost:8080/",
          "height": 35
        }
      },
      "source": [
        "from keras.applications import Xception\n",
        "\n",
        "conv_base = Xception(\n",
        "    weights='imagenet', \n",
        "    include_top=False, \n",
        "    input_shape=(150, 150, 3))"
      ],
      "execution_count": 4,
      "outputs": [
        {
          "output_type": "stream",
          "text": [
            "Using TensorFlow backend.\n"
          ],
          "name": "stderr"
        }
      ]
    },
    {
      "cell_type": "markdown",
      "metadata": {
        "id": "D6OBHOO9q1ou",
        "colab_type": "text"
      },
      "source": [
        "### Freeze the convolutional base"
      ]
    },
    {
      "cell_type": "code",
      "metadata": {
        "id": "UleRo4Dpq6Ld",
        "colab_type": "code",
        "colab": {}
      },
      "source": [
        "conv_base.trainable = False"
      ],
      "execution_count": 0,
      "outputs": []
    },
    {
      "cell_type": "markdown",
      "metadata": {
        "id": "Qfx6PqhPrb7Q",
        "colab_type": "text"
      },
      "source": [
        "### Concatenate the convolutional base and densely connected layers"
      ]
    },
    {
      "cell_type": "code",
      "metadata": {
        "id": "qUpmocDAO3xm",
        "colab_type": "code",
        "colab": {}
      },
      "source": [
        "from keras import layers\n",
        "from keras import models\n",
        "from keras import optimizers\n",
        "\n",
        "model = models.Sequential()\n",
        "model.add(conv_base)\n",
        "model.add(layers.Flatten())\n",
        "# Duplicating this layer\n",
        "model.add(layers.Dense(256, activation='relu'))\n",
        "model.add(layers.Dense(256, activation='relu'))\n",
        "# Adding this dropout\n",
        "model.add(layers.Dropout(0.1))\n",
        "model.add(layers.Dense(1, activation='sigmoid'))"
      ],
      "execution_count": 0,
      "outputs": []
    },
    {
      "cell_type": "code",
      "metadata": {
        "id": "Fh6gZSeAjF7c",
        "colab_type": "code",
        "outputId": "ea4b9c96-a242-492f-e305-73e9b67c4e13",
        "colab": {
          "base_uri": "https://localhost:8080/",
          "height": 364
        }
      },
      "source": [
        "model.summary()"
      ],
      "execution_count": 7,
      "outputs": [
        {
          "output_type": "stream",
          "text": [
            "Model: \"sequential_1\"\n",
            "_________________________________________________________________\n",
            "Layer (type)                 Output Shape              Param #   \n",
            "=================================================================\n",
            "xception (Model)             (None, 5, 5, 2048)        20861480  \n",
            "_________________________________________________________________\n",
            "flatten_1 (Flatten)          (None, 51200)             0         \n",
            "_________________________________________________________________\n",
            "dense_1 (Dense)              (None, 256)               13107456  \n",
            "_________________________________________________________________\n",
            "dense_2 (Dense)              (None, 256)               65792     \n",
            "_________________________________________________________________\n",
            "dropout_1 (Dropout)          (None, 256)               0         \n",
            "_________________________________________________________________\n",
            "dense_3 (Dense)              (None, 1)                 257       \n",
            "=================================================================\n",
            "Total params: 34,034,985\n",
            "Trainable params: 13,173,505\n",
            "Non-trainable params: 20,861,480\n",
            "_________________________________________________________________\n"
          ],
          "name": "stdout"
        }
      ]
    },
    {
      "cell_type": "markdown",
      "metadata": {
        "id": "eZjBiddhi5Qj",
        "colab_type": "text"
      },
      "source": [
        "## Train the model end to end with frozen convolutional base"
      ]
    },
    {
      "cell_type": "code",
      "metadata": {
        "id": "tfAQlC2Oi41L",
        "colab_type": "code",
        "outputId": "3f4ed2e3-ffc9-4f37-8b51-428ac0724a99",
        "colab": {
          "base_uri": "https://localhost:8080/",
          "height": 1000
        }
      },
      "source": [
        "from keras.preprocessing.image import ImageDataGenerator\n",
        "from keras import optimizers\n",
        "\n",
        "# data augmentation\n",
        "\n",
        "train_datagen = ImageDataGenerator(\n",
        "    rescale=1./255, \n",
        "    rotation_range=40,\n",
        "    width_shift_range=0.2,\n",
        "    height_shift_range=0.2,\n",
        "    shear_range=0.2,\n",
        "    zoom_range=0.2,\n",
        "    horizontal_flip=True,\n",
        "    fill_mode='nearest'\n",
        ")\n",
        "\n",
        "train_generator = train_datagen.flow_from_directory(\n",
        "    train_dir,\n",
        "    target_size=(150, 150),\n",
        "    batch_size=20,\n",
        "    class_mode='binary')\n",
        "\n",
        "validation_datagen = ImageDataGenerator(rescale=1./255)\n",
        "\n",
        "validation_generator = validation_datagen.flow_from_directory(\n",
        "    validation_dir,\n",
        "    target_size=(150, 150),\n",
        "    batch_size=20,\n",
        "    class_mode='binary')\n",
        "\n",
        "# compile model\n",
        "\n",
        "model.compile(\n",
        "    loss='binary_crossentropy', \n",
        "    optimizer=optimizers.RMSprop(lr=2e-5), \n",
        "    metrics=['acc'])\n",
        "\n",
        "# train\n",
        "\n",
        "history = model.fit_generator(\n",
        "    train_generator,\n",
        "    steps_per_epoch=100,\n",
        "    epochs=30,\n",
        "    validation_data=validation_generator,\n",
        "    validation_steps=50\n",
        ")"
      ],
      "execution_count": 8,
      "outputs": [
        {
          "output_type": "stream",
          "text": [
            "Found 2000 images belonging to 2 classes.\n",
            "Found 1000 images belonging to 2 classes.\n",
            "Epoch 1/30\n",
            "100/100 [==============================] - 25s 252ms/step - loss: 0.4765 - acc: 0.7585 - val_loss: 0.0253 - val_acc: 0.9540\n",
            "Epoch 2/30\n",
            "100/100 [==============================] - 17s 167ms/step - loss: 0.3779 - acc: 0.8165 - val_loss: 0.2257 - val_acc: 0.9640\n",
            "Epoch 3/30\n",
            "100/100 [==============================] - 17s 167ms/step - loss: 0.3317 - acc: 0.8475 - val_loss: 0.0269 - val_acc: 0.9650\n",
            "Epoch 4/30\n",
            "100/100 [==============================] - 17s 166ms/step - loss: 0.3473 - acc: 0.8455 - val_loss: 0.2470 - val_acc: 0.9650\n",
            "Epoch 5/30\n",
            "100/100 [==============================] - 17s 167ms/step - loss: 0.3342 - acc: 0.8520 - val_loss: 0.0030 - val_acc: 0.9610\n",
            "Epoch 6/30\n",
            "100/100 [==============================] - 17s 168ms/step - loss: 0.3293 - acc: 0.8525 - val_loss: 0.0053 - val_acc: 0.9720\n",
            "Epoch 7/30\n",
            "100/100 [==============================] - 17s 167ms/step - loss: 0.3407 - acc: 0.8450 - val_loss: 0.2941 - val_acc: 0.9690\n",
            "Epoch 8/30\n",
            "100/100 [==============================] - 17s 168ms/step - loss: 0.3293 - acc: 0.8480 - val_loss: 7.8178e-04 - val_acc: 0.9670\n",
            "Epoch 9/30\n",
            "100/100 [==============================] - 17s 167ms/step - loss: 0.3028 - acc: 0.8640 - val_loss: 0.4591 - val_acc: 0.9630\n",
            "Epoch 10/30\n",
            "100/100 [==============================] - 17s 166ms/step - loss: 0.3046 - acc: 0.8665 - val_loss: 0.3857 - val_acc: 0.9670\n",
            "Epoch 11/30\n",
            "100/100 [==============================] - 17s 168ms/step - loss: 0.3150 - acc: 0.8595 - val_loss: 0.0020 - val_acc: 0.9690\n",
            "Epoch 12/30\n",
            "100/100 [==============================] - 17s 168ms/step - loss: 0.3326 - acc: 0.8565 - val_loss: 0.4486 - val_acc: 0.9660\n",
            "Epoch 13/30\n",
            "100/100 [==============================] - 17s 167ms/step - loss: 0.2877 - acc: 0.8785 - val_loss: 0.0967 - val_acc: 0.9680\n",
            "Epoch 14/30\n",
            "100/100 [==============================] - 17s 169ms/step - loss: 0.2866 - acc: 0.8695 - val_loss: 1.0246 - val_acc: 0.9700\n",
            "Epoch 15/30\n",
            "100/100 [==============================] - 17s 166ms/step - loss: 0.2804 - acc: 0.8780 - val_loss: 0.0021 - val_acc: 0.9670\n",
            "Epoch 16/30\n",
            "100/100 [==============================] - 17s 166ms/step - loss: 0.3019 - acc: 0.8720 - val_loss: 0.3010 - val_acc: 0.9690\n",
            "Epoch 17/30\n",
            "100/100 [==============================] - 17s 167ms/step - loss: 0.2866 - acc: 0.8785 - val_loss: 0.2205 - val_acc: 0.9660\n",
            "Epoch 18/30\n",
            "100/100 [==============================] - 17s 167ms/step - loss: 0.2802 - acc: 0.8735 - val_loss: 0.0019 - val_acc: 0.9670\n",
            "Epoch 19/30\n",
            "100/100 [==============================] - 17s 166ms/step - loss: 0.2978 - acc: 0.8745 - val_loss: 0.0451 - val_acc: 0.9570\n",
            "Epoch 20/30\n",
            "100/100 [==============================] - 17s 166ms/step - loss: 0.2942 - acc: 0.8720 - val_loss: 3.0115e-05 - val_acc: 0.9700\n",
            "Epoch 21/30\n",
            "100/100 [==============================] - 17s 166ms/step - loss: 0.2826 - acc: 0.8795 - val_loss: 0.6062 - val_acc: 0.9710\n",
            "Epoch 22/30\n",
            "100/100 [==============================] - 17s 168ms/step - loss: 0.2859 - acc: 0.8845 - val_loss: 0.0131 - val_acc: 0.9730\n",
            "Epoch 23/30\n",
            "100/100 [==============================] - 17s 166ms/step - loss: 0.2562 - acc: 0.8855 - val_loss: 1.9547e-04 - val_acc: 0.9690\n",
            "Epoch 24/30\n",
            "100/100 [==============================] - 17s 167ms/step - loss: 0.2724 - acc: 0.8775 - val_loss: 7.8408e-07 - val_acc: 0.9680\n",
            "Epoch 25/30\n",
            "100/100 [==============================] - 17s 167ms/step - loss: 0.2864 - acc: 0.8780 - val_loss: 0.0949 - val_acc: 0.9680\n",
            "Epoch 26/30\n",
            "100/100 [==============================] - 17s 166ms/step - loss: 0.2758 - acc: 0.8805 - val_loss: 3.1182e-05 - val_acc: 0.9700\n",
            "Epoch 27/30\n",
            "100/100 [==============================] - 17s 167ms/step - loss: 0.2615 - acc: 0.8920 - val_loss: 3.3553e-04 - val_acc: 0.9680\n",
            "Epoch 28/30\n",
            "100/100 [==============================] - 17s 166ms/step - loss: 0.2591 - acc: 0.8925 - val_loss: 1.0544 - val_acc: 0.9600\n",
            "Epoch 29/30\n",
            "100/100 [==============================] - 17s 167ms/step - loss: 0.2960 - acc: 0.8740 - val_loss: 0.0018 - val_acc: 0.9690\n",
            "Epoch 30/30\n",
            "100/100 [==============================] - 17s 168ms/step - loss: 0.2676 - acc: 0.8845 - val_loss: 0.2118 - val_acc: 0.9700\n"
          ],
          "name": "stdout"
        }
      ]
    },
    {
      "cell_type": "markdown",
      "metadata": {
        "id": "xqRc_vHKc92U",
        "colab_type": "text"
      },
      "source": [
        "## Display curves of loss and accuracy during training"
      ]
    },
    {
      "cell_type": "code",
      "metadata": {
        "id": "ybWwdzz9bwuQ",
        "colab_type": "code",
        "outputId": "366339c9-c4eb-4ca6-e1f1-f8a48f7f0e4d",
        "colab": {
          "base_uri": "https://localhost:8080/",
          "height": 545
        }
      },
      "source": [
        "%matplotlib inline\n",
        "\n",
        "import matplotlib.pyplot as plt\n",
        "\n",
        "acc = history.history['acc']\n",
        "val_acc = history.history['val_acc']\n",
        "\n",
        "loss = history.history['loss']\n",
        "val_loss = history.history['val_loss']\n",
        "\n",
        "epochs = range(1, len(acc) + 1)\n",
        "\n",
        "# training and validation accuracy\n",
        "\n",
        "plt.plot(epochs, acc, 'bo', label='training acc')\n",
        "plt.plot(epochs, val_acc, 'b', label='validation acc')\n",
        "plt.title('training and validation accuracy')\n",
        "plt.legend()\n",
        "\n",
        "plt.figure()\n",
        "\n",
        "# training and validation loss\n",
        "\n",
        "plt.plot(epochs, loss, 'bo', label='training loss')\n",
        "plt.plot(epochs, val_loss, 'b', label='validation loss')\n",
        "plt.title('training and validation loss')\n",
        "plt.legend()\n",
        "\n",
        "plt.show()"
      ],
      "execution_count": 9,
      "outputs": [
        {
          "output_type": "display_data",
          "data": {
            "image/png": "[encoded data removed]",
            "text/plain": [
              "<Figure size 432x288 with 1 Axes>"
            ]
          },
          "metadata": {
            "tags": [],
            "needs_background": "light"
          }
        },
        {
          "output_type": "display_data",
          "data": {
            "image/png": "[encoded data removed]",
            "text/plain": [
              "<Figure size 432x288 with 1 Axes>"
            ]
          },
          "metadata": {
            "tags": [],
            "needs_background": "light"
          }
        }
      ]
    },
    {
      "cell_type": "markdown",
      "metadata": {
        "id": "lOWsxpey8lN0",
        "colab_type": "text"
      },
      "source": [
        "## Fine-tuning"
      ]
    },
    {
      "cell_type": "code",
      "metadata": {
        "id": "PwkVMx8N8qMw",
        "colab_type": "code",
        "colab": {}
      },
      "source": [
        "conv_base.trainable = True\n",
        "\n",
        "set_trainable = False\n",
        "for layer in conv_base.layers:\n",
        "  if layer.name == 'conv2d_4':\n",
        "    set_trainable = True\n",
        "  if set_trainable:\n",
        "    layer.trainable = True\n",
        "  else:\n",
        "    layer.trainable = False"
      ],
      "execution_count": 0,
      "outputs": []
    },
    {
      "cell_type": "code",
      "metadata": {
        "id": "DyN-J7rs9cvo",
        "colab_type": "code",
        "outputId": "c503a24b-82aa-458a-ba9f-51825a3d7e4b",
        "colab": {
          "base_uri": "https://localhost:8080/",
          "height": 1000
        }
      },
      "source": [
        "# compile model\n",
        "\n",
        "model.compile(\n",
        "    loss='binary_crossentropy',\n",
        "    #\n",
        "    # choose a smaller learning rate\n",
        "    #\n",
        "    optimizer=optimizers.RMSprop(lr=1e-5), \n",
        "    metrics=['acc'])\n",
        "\n",
        "# train\n",
        "\n",
        "history = model.fit_generator(\n",
        "    train_generator,\n",
        "    steps_per_epoch=100,\n",
        "    epochs=100,\n",
        "    validation_data=validation_generator,\n",
        "    validation_steps=50)"
      ],
      "execution_count": 11,
      "outputs": [
        {
          "output_type": "stream",
          "text": [
            "Epoch 1/100\n",
            "100/100 [==============================] - 21s 206ms/step - loss: 0.2557 - acc: 0.8855 - val_loss: 0.1963 - val_acc: 0.9500\n",
            "Epoch 2/100\n",
            "100/100 [==============================] - 17s 170ms/step - loss: 0.2347 - acc: 0.8980 - val_loss: 0.1256 - val_acc: 0.9440\n",
            "Epoch 3/100\n",
            "100/100 [==============================] - 17s 171ms/step - loss: 0.2406 - acc: 0.9050 - val_loss: 0.1248 - val_acc: 0.9340\n",
            "Epoch 4/100\n",
            "100/100 [==============================] - 17s 170ms/step - loss: 0.2401 - acc: 0.8985 - val_loss: 0.0383 - val_acc: 0.9440\n",
            "Epoch 5/100\n",
            "100/100 [==============================] - 17s 171ms/step - loss: 0.2344 - acc: 0.9055 - val_loss: 0.0409 - val_acc: 0.9380\n",
            "Epoch 6/100\n",
            "100/100 [==============================] - 17s 172ms/step - loss: 0.2487 - acc: 0.9020 - val_loss: 0.0789 - val_acc: 0.9420\n",
            "Epoch 7/100\n",
            "100/100 [==============================] - 17s 171ms/step - loss: 0.2217 - acc: 0.9125 - val_loss: 0.0645 - val_acc: 0.9370\n",
            "Epoch 8/100\n",
            "100/100 [==============================] - 17s 172ms/step - loss: 0.2258 - acc: 0.9070 - val_loss: 0.0913 - val_acc: 0.9360\n",
            "Epoch 9/100\n",
            "100/100 [==============================] - 17s 171ms/step - loss: 0.2372 - acc: 0.9030 - val_loss: 0.0431 - val_acc: 0.9430\n",
            "Epoch 10/100\n",
            "100/100 [==============================] - 17s 171ms/step - loss: 0.2319 - acc: 0.9100 - val_loss: 0.1696 - val_acc: 0.9470\n",
            "Epoch 11/100\n",
            "100/100 [==============================] - 17s 173ms/step - loss: 0.1987 - acc: 0.9175 - val_loss: 0.2247 - val_acc: 0.9430\n",
            "Epoch 12/100\n",
            "100/100 [==============================] - 17s 172ms/step - loss: 0.2055 - acc: 0.9185 - val_loss: 0.4123 - val_acc: 0.9270\n",
            "Epoch 13/100\n",
            "100/100 [==============================] - 17s 171ms/step - loss: 0.2166 - acc: 0.9115 - val_loss: 0.6810 - val_acc: 0.9240\n",
            "Epoch 14/100\n",
            "100/100 [==============================] - 17s 172ms/step - loss: 0.2155 - acc: 0.9125 - val_loss: 0.0068 - val_acc: 0.9440\n",
            "Epoch 15/100\n",
            "100/100 [==============================] - 17s 171ms/step - loss: 0.2084 - acc: 0.9145 - val_loss: 0.4117 - val_acc: 0.9420\n",
            "Epoch 16/100\n",
            "100/100 [==============================] - 17s 171ms/step - loss: 0.2239 - acc: 0.9130 - val_loss: 0.3238 - val_acc: 0.9440\n",
            "Epoch 17/100\n",
            "100/100 [==============================] - 17s 171ms/step - loss: 0.2001 - acc: 0.9130 - val_loss: 0.0739 - val_acc: 0.9420\n",
            "Epoch 18/100\n",
            "100/100 [==============================] - 17s 171ms/step - loss: 0.2164 - acc: 0.9095 - val_loss: 0.0151 - val_acc: 0.9440\n",
            "Epoch 19/100\n",
            "100/100 [==============================] - 17s 172ms/step - loss: 0.1947 - acc: 0.9160 - val_loss: 0.0536 - val_acc: 0.9450\n",
            "Epoch 20/100\n",
            "100/100 [==============================] - 17s 172ms/step - loss: 0.1968 - acc: 0.9210 - val_loss: 0.1516 - val_acc: 0.9420\n",
            "Epoch 21/100\n",
            "100/100 [==============================] - 17s 170ms/step - loss: 0.1842 - acc: 0.9245 - val_loss: 0.2753 - val_acc: 0.9380\n",
            "Epoch 22/100\n",
            "100/100 [==============================] - 17s 171ms/step - loss: 0.2143 - acc: 0.9100 - val_loss: 0.4607 - val_acc: 0.9410\n",
            "Epoch 23/100\n",
            "100/100 [==============================] - 17s 171ms/step - loss: 0.1749 - acc: 0.9310 - val_loss: 0.0738 - val_acc: 0.9400\n",
            "Epoch 24/100\n",
            "100/100 [==============================] - 17s 171ms/step - loss: 0.1801 - acc: 0.9250 - val_loss: 0.1288 - val_acc: 0.9400\n",
            "Epoch 25/100\n",
            "100/100 [==============================] - 17s 171ms/step - loss: 0.1863 - acc: 0.9290 - val_loss: 0.0873 - val_acc: 0.9330\n",
            "Epoch 26/100\n",
            "100/100 [==============================] - 17s 171ms/step - loss: 0.1905 - acc: 0.9205 - val_loss: 0.1750 - val_acc: 0.9390\n",
            "Epoch 27/100\n",
            "100/100 [==============================] - 17s 171ms/step - loss: 0.1614 - acc: 0.9365 - val_loss: 0.1515 - val_acc: 0.9030\n",
            "Epoch 28/100\n",
            "100/100 [==============================] - 17s 171ms/step - loss: 0.1627 - acc: 0.9365 - val_loss: 0.0394 - val_acc: 0.9410\n",
            "Epoch 29/100\n",
            "100/100 [==============================] - 17s 172ms/step - loss: 0.1575 - acc: 0.9360 - val_loss: 0.1030 - val_acc: 0.9410\n",
            "Epoch 30/100\n",
            "100/100 [==============================] - 17s 172ms/step - loss: 0.1688 - acc: 0.9300 - val_loss: 0.9866 - val_acc: 0.9440\n",
            "Epoch 31/100\n",
            "100/100 [==============================] - 17s 171ms/step - loss: 0.1544 - acc: 0.9405 - val_loss: 0.0698 - val_acc: 0.9240\n",
            "Epoch 32/100\n",
            "100/100 [==============================] - 17s 170ms/step - loss: 0.1905 - acc: 0.9290 - val_loss: 0.0220 - val_acc: 0.9420\n",
            "Epoch 33/100\n",
            "100/100 [==============================] - 17s 170ms/step - loss: 0.1793 - acc: 0.9375 - val_loss: 0.2518 - val_acc: 0.9390\n",
            "Epoch 34/100\n",
            "100/100 [==============================] - 17s 171ms/step - loss: 0.1525 - acc: 0.9415 - val_loss: 0.0650 - val_acc: 0.9440\n",
            "Epoch 35/100\n",
            "100/100 [==============================] - 17s 170ms/step - loss: 0.1705 - acc: 0.9360 - val_loss: 0.8261 - val_acc: 0.9420\n",
            "Epoch 36/100\n",
            "100/100 [==============================] - 17s 171ms/step - loss: 0.1532 - acc: 0.9415 - val_loss: 0.0351 - val_acc: 0.9420\n",
            "Epoch 37/100\n",
            "100/100 [==============================] - 17s 171ms/step - loss: 0.1769 - acc: 0.9315 - val_loss: 0.3751 - val_acc: 0.9370\n",
            "Epoch 38/100\n",
            "100/100 [==============================] - 17s 172ms/step - loss: 0.1698 - acc: 0.9375 - val_loss: 0.3647 - val_acc: 0.9320\n",
            "Epoch 39/100\n",
            "100/100 [==============================] - 17s 172ms/step - loss: 0.1673 - acc: 0.9425 - val_loss: 0.0153 - val_acc: 0.9380\n",
            "Epoch 40/100\n",
            "100/100 [==============================] - 17s 171ms/step - loss: 0.1614 - acc: 0.9325 - val_loss: 0.1096 - val_acc: 0.9380\n",
            "Epoch 41/100\n",
            "100/100 [==============================] - 17s 170ms/step - loss: 0.1538 - acc: 0.9365 - val_loss: 0.0840 - val_acc: 0.9400\n",
            "Epoch 42/100\n",
            "100/100 [==============================] - 17s 171ms/step - loss: 0.1823 - acc: 0.9345 - val_loss: 0.2610 - val_acc: 0.9410\n",
            "Epoch 43/100\n",
            "100/100 [==============================] - 17s 170ms/step - loss: 0.1664 - acc: 0.9360 - val_loss: 0.0585 - val_acc: 0.9270\n",
            "Epoch 44/100\n",
            "100/100 [==============================] - 17s 172ms/step - loss: 0.1738 - acc: 0.9320 - val_loss: 0.2067 - val_acc: 0.9450\n",
            "Epoch 45/100\n",
            "100/100 [==============================] - 17s 171ms/step - loss: 0.1563 - acc: 0.9355 - val_loss: 0.5179 - val_acc: 0.9370\n",
            "Epoch 46/100\n",
            "100/100 [==============================] - 17s 171ms/step - loss: 0.1377 - acc: 0.9495 - val_loss: 0.0704 - val_acc: 0.9430\n",
            "Epoch 47/100\n",
            "100/100 [==============================] - 17s 171ms/step - loss: 0.1338 - acc: 0.9455 - val_loss: 0.2749 - val_acc: 0.9400\n",
            "Epoch 48/100\n",
            "100/100 [==============================] - 17s 173ms/step - loss: 0.1874 - acc: 0.9350 - val_loss: 0.2241 - val_acc: 0.9380\n",
            "Epoch 49/100\n",
            "100/100 [==============================] - 17s 170ms/step - loss: 0.1545 - acc: 0.9350 - val_loss: 0.2012 - val_acc: 0.9280\n",
            "Epoch 50/100\n",
            "100/100 [==============================] - 17s 170ms/step - loss: 0.1512 - acc: 0.9445 - val_loss: 0.0229 - val_acc: 0.9420\n",
            "Epoch 51/100\n",
            "100/100 [==============================] - 17s 170ms/step - loss: 0.1679 - acc: 0.9330 - val_loss: 0.1388 - val_acc: 0.9370\n",
            "Epoch 52/100\n",
            "100/100 [==============================] - 17s 170ms/step - loss: 0.1526 - acc: 0.9380 - val_loss: 0.1732 - val_acc: 0.9430\n",
            "Epoch 53/100\n",
            "100/100 [==============================] - 17s 172ms/step - loss: 0.1313 - acc: 0.9525 - val_loss: 0.0914 - val_acc: 0.9230\n",
            "Epoch 54/100\n",
            "100/100 [==============================] - 17s 170ms/step - loss: 0.1546 - acc: 0.9440 - val_loss: 0.0765 - val_acc: 0.9460\n",
            "Epoch 55/100\n",
            "100/100 [==============================] - 17s 171ms/step - loss: 0.1390 - acc: 0.9455 - val_loss: 0.0991 - val_acc: 0.9470\n",
            "Epoch 56/100\n",
            "100/100 [==============================] - 17s 171ms/step - loss: 0.1542 - acc: 0.9450 - val_loss: 0.0336 - val_acc: 0.9480\n",
            "Epoch 57/100\n",
            "100/100 [==============================] - 17s 171ms/step - loss: 0.1440 - acc: 0.9440 - val_loss: 0.1776 - val_acc: 0.9430\n",
            "Epoch 58/100\n",
            "100/100 [==============================] - 17s 172ms/step - loss: 0.1491 - acc: 0.9410 - val_loss: 0.0261 - val_acc: 0.9410\n",
            "Epoch 59/100\n",
            "100/100 [==============================] - 17s 171ms/step - loss: 0.1162 - acc: 0.9515 - val_loss: 0.0113 - val_acc: 0.9440\n",
            "Epoch 60/100\n",
            "100/100 [==============================] - 17s 171ms/step - loss: 0.1147 - acc: 0.9560 - val_loss: 0.0032 - val_acc: 0.9460\n",
            "Epoch 61/100\n",
            "100/100 [==============================] - 17s 171ms/step - loss: 0.1620 - acc: 0.9390 - val_loss: 0.0258 - val_acc: 0.9450\n",
            "Epoch 62/100\n",
            "100/100 [==============================] - 17s 172ms/step - loss: 0.1345 - acc: 0.9515 - val_loss: 0.0193 - val_acc: 0.9430\n",
            "Epoch 63/100\n",
            "100/100 [==============================] - 17s 171ms/step - loss: 0.1227 - acc: 0.9500 - val_loss: 0.0141 - val_acc: 0.9320\n",
            "Epoch 64/100\n",
            "100/100 [==============================] - 17s 171ms/step - loss: 0.1338 - acc: 0.9470 - val_loss: 0.0161 - val_acc: 0.9490\n",
            "Epoch 65/100\n",
            "100/100 [==============================] - 17s 171ms/step - loss: 0.1298 - acc: 0.9500 - val_loss: 0.1451 - val_acc: 0.9400\n",
            "Epoch 66/100\n",
            "100/100 [==============================] - 17s 172ms/step - loss: 0.1219 - acc: 0.9490 - val_loss: 0.0776 - val_acc: 0.9380\n",
            "Epoch 67/100\n",
            "100/100 [==============================] - 17s 171ms/step - loss: 0.1370 - acc: 0.9515 - val_loss: 0.4668 - val_acc: 0.9440\n",
            "Epoch 68/100\n",
            "100/100 [==============================] - 18s 176ms/step - loss: 0.1179 - acc: 0.9580 - val_loss: 0.0850 - val_acc: 0.9490\n",
            "Epoch 69/100\n",
            "100/100 [==============================] - 17s 173ms/step - loss: 0.1346 - acc: 0.9510 - val_loss: 0.6041 - val_acc: 0.9480\n",
            "Epoch 70/100\n",
            "100/100 [==============================] - 17s 173ms/step - loss: 0.1460 - acc: 0.9485 - val_loss: 0.1859 - val_acc: 0.9470\n",
            "Epoch 71/100\n",
            "100/100 [==============================] - 17s 173ms/step - loss: 0.1201 - acc: 0.9525 - val_loss: 0.4191 - val_acc: 0.9440\n",
            "Epoch 72/100\n",
            "100/100 [==============================] - 17s 172ms/step - loss: 0.1355 - acc: 0.9510 - val_loss: 0.0654 - val_acc: 0.9430\n",
            "Epoch 73/100\n",
            "100/100 [==============================] - 17s 171ms/step - loss: 0.1338 - acc: 0.9565 - val_loss: 0.4624 - val_acc: 0.9460\n",
            "Epoch 74/100\n",
            "100/100 [==============================] - 17s 171ms/step - loss: 0.1359 - acc: 0.9510 - val_loss: 0.0031 - val_acc: 0.9460\n",
            "Epoch 75/100\n",
            "100/100 [==============================] - 17s 171ms/step - loss: 0.1216 - acc: 0.9485 - val_loss: 0.1017 - val_acc: 0.9400\n",
            "Epoch 76/100\n",
            "100/100 [==============================] - 17s 172ms/step - loss: 0.1085 - acc: 0.9600 - val_loss: 0.4107 - val_acc: 0.9440\n",
            "Epoch 77/100\n",
            "100/100 [==============================] - 17s 171ms/step - loss: 0.1008 - acc: 0.9575 - val_loss: 0.5355 - val_acc: 0.9460\n",
            "Epoch 78/100\n",
            "100/100 [==============================] - 17s 170ms/step - loss: 0.1289 - acc: 0.9500 - val_loss: 0.6102 - val_acc: 0.9450\n",
            "Epoch 79/100\n",
            "100/100 [==============================] - 17s 172ms/step - loss: 0.1122 - acc: 0.9580 - val_loss: 0.0035 - val_acc: 0.9420\n",
            "Epoch 80/100\n",
            "100/100 [==============================] - 17s 171ms/step - loss: 0.1202 - acc: 0.9565 - val_loss: 0.1502 - val_acc: 0.9460\n",
            "Epoch 81/100\n",
            "100/100 [==============================] - 17s 172ms/step - loss: 0.1175 - acc: 0.9510 - val_loss: 0.2108 - val_acc: 0.9430\n",
            "Epoch 82/100\n",
            "100/100 [==============================] - 17s 171ms/step - loss: 0.1073 - acc: 0.9580 - val_loss: 0.0522 - val_acc: 0.9470\n",
            "Epoch 83/100\n",
            "100/100 [==============================] - 17s 171ms/step - loss: 0.1116 - acc: 0.9540 - val_loss: 0.0879 - val_acc: 0.9400\n",
            "Epoch 84/100\n",
            "100/100 [==============================] - 17s 173ms/step - loss: 0.1182 - acc: 0.9555 - val_loss: 0.5554 - val_acc: 0.9360\n",
            "Epoch 85/100\n",
            "100/100 [==============================] - 17s 171ms/step - loss: 0.0991 - acc: 0.9660 - val_loss: 0.5874 - val_acc: 0.9460\n",
            "Epoch 86/100\n",
            "100/100 [==============================] - 17s 172ms/step - loss: 0.1148 - acc: 0.9580 - val_loss: 0.6839 - val_acc: 0.9420\n",
            "Epoch 87/100\n",
            "100/100 [==============================] - 17s 171ms/step - loss: 0.1177 - acc: 0.9580 - val_loss: 0.0138 - val_acc: 0.9480\n",
            "Epoch 88/100\n",
            "100/100 [==============================] - 17s 172ms/step - loss: 0.1149 - acc: 0.9590 - val_loss: 0.0337 - val_acc: 0.9450\n",
            "Epoch 89/100\n",
            "100/100 [==============================] - 17s 171ms/step - loss: 0.1255 - acc: 0.9530 - val_loss: 0.0354 - val_acc: 0.9270\n",
            "Epoch 90/100\n",
            "100/100 [==============================] - 17s 172ms/step - loss: 0.1083 - acc: 0.9565 - val_loss: 0.0398 - val_acc: 0.9460\n",
            "Epoch 91/100\n",
            "100/100 [==============================] - 17s 172ms/step - loss: 0.1080 - acc: 0.9575 - val_loss: 0.0380 - val_acc: 0.9500\n",
            "Epoch 92/100\n",
            "100/100 [==============================] - 17s 171ms/step - loss: 0.1096 - acc: 0.9565 - val_loss: 0.0318 - val_acc: 0.9460\n",
            "Epoch 93/100\n",
            "100/100 [==============================] - 17s 171ms/step - loss: 0.1159 - acc: 0.9555 - val_loss: 0.0301 - val_acc: 0.9420\n",
            "Epoch 94/100\n",
            "100/100 [==============================] - 17s 171ms/step - loss: 0.1132 - acc: 0.9580 - val_loss: 0.1845 - val_acc: 0.9300\n",
            "Epoch 95/100\n",
            "100/100 [==============================] - 17s 171ms/step - loss: 0.1054 - acc: 0.9600 - val_loss: 0.2026 - val_acc: 0.9460\n",
            "Epoch 96/100\n",
            "100/100 [==============================] - 17s 170ms/step - loss: 0.1029 - acc: 0.9610 - val_loss: 0.0121 - val_acc: 0.9430\n",
            "Epoch 97/100\n",
            "100/100 [==============================] - 17s 172ms/step - loss: 0.1017 - acc: 0.9615 - val_loss: 0.1040 - val_acc: 0.9430\n",
            "Epoch 98/100\n",
            "100/100 [==============================] - 17s 171ms/step - loss: 0.1028 - acc: 0.9685 - val_loss: 0.0178 - val_acc: 0.9480\n",
            "Epoch 99/100\n",
            "100/100 [==============================] - 17s 171ms/step - loss: 0.0954 - acc: 0.9600 - val_loss: 0.5346 - val_acc: 0.9480\n",
            "Epoch 100/100\n",
            "100/100 [==============================] - 17s 172ms/step - loss: 0.0965 - acc: 0.9610 - val_loss: 0.6264 - val_acc: 0.9410\n"
          ],
          "name": "stdout"
        }
      ]
    },
    {
      "cell_type": "markdown",
      "metadata": {
        "id": "eVBQgh5M-Rtz",
        "colab_type": "text"
      },
      "source": [
        "## Display learning curves during fine-tuning"
      ]
    },
    {
      "cell_type": "code",
      "metadata": {
        "id": "mbkIw7Ie-NP4",
        "colab_type": "code",
        "outputId": "753f4da6-646e-4232-cb48-61e9ee325e4c",
        "colab": {
          "base_uri": "https://localhost:8080/",
          "height": 545
        }
      },
      "source": [
        "%matplotlib inline\n",
        "\n",
        "import matplotlib.pyplot as plt\n",
        "\n",
        "acc = history.history['acc']\n",
        "val_acc = history.history['val_acc']\n",
        "\n",
        "loss = history.history['loss']\n",
        "val_loss = history.history['val_loss']\n",
        "\n",
        "epochs = range(1, len(acc) + 1)\n",
        "\n",
        "# training and validation accuracy\n",
        "\n",
        "plt.plot(epochs, acc, 'bo', label='training acc')\n",
        "plt.plot(epochs, val_acc, 'b', label='validation acc')\n",
        "plt.title('training and validation accuracy')\n",
        "plt.legend()\n",
        "\n",
        "plt.figure()\n",
        "\n",
        "# training and validation loss\n",
        "\n",
        "plt.plot(epochs, loss, 'bo', label='training loss')\n",
        "plt.plot(epochs, val_loss, 'b', label='validation loss')\n",
        "plt.title('training and validation loss')\n",
        "plt.legend()\n",
        "\n",
        "plt.show()"
      ],
      "execution_count": 12,
      "outputs": [
        {
          "output_type": "display_data",
          "data": {
            "image/png": "[encoded data removed]",
            "text/plain": [
              "<Figure size 432x288 with 1 Axes>"
            ]
          },
          "metadata": {
            "tags": [],
            "needs_background": "light"
          }
        },
        {
          "output_type": "display_data",
          "data": {
            "image/png": "[encoded data removed]",
            "text/plain": [
              "<Figure size 432x288 with 1 Axes>"
            ]
          },
          "metadata": {
            "tags": [],
            "needs_background": "light"
          }
        }
      ]
    },
    {
      "cell_type": "markdown",
      "metadata": {
        "id": "obQi6N4ZShdi",
        "colab_type": "text"
      },
      "source": [
        "This looks better than it was in Problem3A."
      ]
    },
    {
      "cell_type": "markdown",
      "metadata": {
        "id": "he3Nw6TOJwjx",
        "colab_type": "text"
      },
      "source": [
        "## Print out validation loss and accuracy"
      ]
    },
    {
      "cell_type": "code",
      "metadata": {
        "id": "SVQtrk7uJdhl",
        "colab_type": "code",
        "colab": {}
      },
      "source": [
        "val_loss, val_acc = model.evaluate_generator(validation_generator, steps=50)"
      ],
      "execution_count": 0,
      "outputs": []
    },
    {
      "cell_type": "code",
      "metadata": {
        "id": "HpdddLi1SUMe",
        "colab_type": "code",
        "outputId": "68cb3bf3-8dfe-4d37-a82b-b256598ede06",
        "colab": {
          "base_uri": "https://localhost:8080/",
          "height": 52
        }
      },
      "source": [
        "print(\"Validation loss:\", val_loss)\n",
        "print(\"Validation accuracy:\", val_acc)"
      ],
      "execution_count": 14,
      "outputs": [
        {
          "output_type": "stream",
          "text": [
            "Validation loss: 0.02485000528395176\n",
            "Validation accuracy: 0.9409999847412109\n"
          ],
          "name": "stdout"
        }
      ]
    },
    {
      "cell_type": "markdown",
      "metadata": {
        "id": "hjTNXo7UH5rv",
        "colab_type": "text"
      },
      "source": [
        "Nice and low validation loss."
      ]
    },
    {
      "cell_type": "markdown",
      "metadata": {
        "id": "7Ww756WToby8",
        "colab_type": "text"
      },
      "source": [
        "## Save the model"
      ]
    },
    {
      "cell_type": "code",
      "metadata": {
        "id": "0lTUpUdwobKW",
        "colab_type": "code",
        "colab": {}
      },
      "source": [
        "model_fname = 'cats_and_dogs_small_4.h5' \n",
        "model.save(model_fname)"
      ],
      "execution_count": 0,
      "outputs": []
    },
    {
      "cell_type": "code",
      "metadata": {
        "id": "YhEoI8ZTok-X",
        "colab_type": "code",
        "colab": {
          "base_uri": "https://localhost:8080/",
          "height": 451
        },
        "outputId": "2166ffb6-c89e-4e9b-ebe1-1413ec03e21f"
      },
      "source": [
        "from google.colab import files\n",
        "\n",
        "with open(model_fname, 'r') as f:\n",
        "  files.download(model_fname)"
      ],
      "execution_count": 16,
      "outputs": [
        {
          "output_type": "stream",
          "text": [
            "----------------------------------------\n",
            "Exception happened during processing of request from ('::ffff:127.0.0.1', 34814, 0, 0)\n",
            "Traceback (most recent call last):\n",
            "  File \"/usr/lib/python3.6/socketserver.py\", line 320, in _handle_request_noblock\n",
            "    self.process_request(request, client_address)\n",
            "  File \"/usr/lib/python3.6/socketserver.py\", line 351, in process_request\n",
            "    self.finish_request(request, client_address)\n",
            "  File \"/usr/lib/python3.6/socketserver.py\", line 364, in finish_request\n",
            "    self.RequestHandlerClass(request, client_address, self)\n",
            "  File \"/usr/lib/python3.6/socketserver.py\", line 724, in __init__\n",
            "    self.handle()\n",
            "  File \"/usr/lib/python3.6/http/server.py\", line 418, in handle\n",
            "    self.handle_one_request()\n",
            "  File \"/usr/lib/python3.6/http/server.py\", line 406, in handle_one_request\n",
            "    method()\n",
            "  File \"/usr/lib/python3.6/http/server.py\", line 639, in do_GET\n",
            "    self.copyfile(f, self.wfile)\n",
            "  File \"/usr/lib/python3.6/http/server.py\", line 800, in copyfile\n",
            "    shutil.copyfileobj(source, outputfile)\n",
            "  File \"/usr/lib/python3.6/shutil.py\", line 82, in copyfileobj\n",
            "    fdst.write(buf)\n",
            "  File \"/usr/lib/python3.6/socketserver.py\", line 803, in write\n",
            "    self._sock.sendall(b)\n",
            "ConnectionResetError: [Errno 104] Connection reset by peer\n",
            "----------------------------------------\n"
          ],
          "name": "stderr"
        }
      ]
    }
  ]
}