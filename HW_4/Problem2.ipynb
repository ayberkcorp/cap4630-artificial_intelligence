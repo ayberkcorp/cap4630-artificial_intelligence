{
  "nbformat": 4,
  "nbformat_minor": 0,
  "metadata": {
    "colab": {
      "name": "Problem2.ipynb",
      "provenance": [],
      "collapsed_sections": [],
      "authorship_tag": "ABX9TyP/rmhmLTN1ueJKRS5qC57q",
      "include_colab_link": true
    },
    "kernelspec": {
      "name": "python3",
      "display_name": "Python 3"
    }
  },
  "cells": [
    {
      "cell_type": "markdown",
      "metadata": {
        "id": "view-in-github",
        "colab_type": "text"
      },
      "source": [
        "<a href=\"https://colab.research.google.com/github/ayberkcorp/cap4630-artificial_intelligence/blob/master/HW_4/Problem2.ipynb\" target=\"_parent\"><img src=\"https://colab.research.google.com/assets/colab-badge.svg\" alt=\"Open In Colab\"/></a>"
      ]
    },
    {
      "cell_type": "markdown",
      "metadata": {
        "id": "7Ll2Q0WCkjQE",
        "colab_type": "text"
      },
      "source": [
        "# Max pooling\n",
        "\n",
        "### Implement maxpooling2d():"
      ]
    },
    {
      "cell_type": "code",
      "metadata": {
        "id": "nv2qPF6Pkfnc",
        "colab_type": "code",
        "colab": {}
      },
      "source": [
        "import numpy as np\n",
        "\n",
        "def maxpooling2d(input_mat, s):\n",
        "  if((s, s) > np.shape(input_mat)):\n",
        "    print(\"Error: window is larger than input_mat\")\n",
        "    return []\n",
        "\n",
        "  m = np.shape(input_mat)[0]\n",
        "  n = np.shape(input_mat)[1]\n",
        "  output_mat_s = int(m / s)\n",
        "  output_mat = np.zeros((output_mat_s, output_mat_s))\n",
        "\n",
        "  for i in range(0, m, s):\n",
        "    for j in range(0, n, s):\n",
        "      for i_w in range(s):\n",
        "        for j_w in range(s):\n",
        "          # If matrix is out of bounds, we pass that iteration\n",
        "          try:\n",
        "            I_o, J_o = int(i / s), int(j / s)\n",
        "            I_i, J_i = (int(i) + i_w), (int(j) + j_w)\n",
        "            output_mat[I_o][J_o] = max(output_mat[I_o][J_o], input_mat[I_i][J_i])\n",
        "          except:\n",
        "            pass\n",
        "\n",
        "return output_mat"
      ],
      "execution_count": 0,
      "outputs": []
    },
    {
      "cell_type": "markdown",
      "metadata": {
        "id": "wFaJIs4ekoHE",
        "colab_type": "text"
      },
      "source": [
        "### Testing:"
      ]
    },
    {
      "cell_type": "code",
      "metadata": {
        "id": "il9oZwpPl12X",
        "colab_type": "code",
        "colab": {
          "base_uri": "https://localhost:8080/",
          "height": 139
        },
        "outputId": "6dcaf2d5-e1c1-428f-bd1e-47f7a38a47c3"
      },
      "source": [
        "import skimage.measure\n",
        "\n",
        "input_mat = []\n",
        "expected_mat = []\n",
        "s = []\n",
        "input_mat.append(np.array([[1, 2, 1, 2],\n",
        "                      [2, 4, 2, 1],\n",
        "                      [1, 2, 4, 2],\n",
        "                      [2, 1, 2, 1]]))\n",
        "s.append(2)\n",
        "\n",
        "expected_mat.append(np.array([[4, 2],\n",
        "                                [2, 4]]))\n",
        "\n",
        "input_mat.append(np.array([[1, 2, 1, 2, 4, 5],\n",
        "                      [2, 4, 2, 1, 0, 3],\n",
        "                      [1, 2, 4, 2, 4, 5],\n",
        "                      [2, 1, 2, 1, 2, 1],\n",
        "                      [1, 1, 2, 3, 1, 2],\n",
        "                      [1, 1, 2, 3, 1, 2]]))\n",
        "s.append(2)\n",
        "\n",
        "expected_mat.append([[4, 2, 5],\n",
        " [2, 4, 5],\n",
        " [1, 3, 2]])\n",
        "\n",
        "\n",
        "for i in range(len(input_mat)):\n",
        "  # uncomment top line and comment second line to test code\n",
        "  output_mat = maxpooling2d(input_mat[i], s[i])\n",
        "  # output_mat = skimage.measure.block_reduce(input_mat[i], (s[i],s[i]), np.max)\n",
        "\n",
        "  print(output_mat)\n",
        "\n",
        "  if np.array_equal(output_mat, expected_mat[i]):\n",
        "    print(\"Correct output!\")\n",
        "  else:\n",
        "    print(\"Incorrect output!\")"
      ],
      "execution_count": 5,
      "outputs": [
        {
          "output_type": "stream",
          "text": [
            "[[4. 2.]\n",
            " [2. 4.]]\n",
            "Correct output!\n",
            "[[4. 2. 5.]\n",
            " [2. 4. 5.]\n",
            " [1. 3. 2.]]\n",
            "Correct output!\n"
          ],
          "name": "stdout"
        }
      ]
    }
  ]
}