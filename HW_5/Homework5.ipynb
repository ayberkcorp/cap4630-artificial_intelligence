{
  "nbformat": 4,
  "nbformat_minor": 0,
  "metadata": {
    "colab": {
      "name": "Homework5.ipynb",
      "provenance": [],
      "authorship_tag": "ABX9TyNbVqQGzD84xzl4g+d7aVzY",
      "include_colab_link": true
    },
    "kernelspec": {
      "name": "python3",
      "display_name": "Python 3"
    }
  },
  "cells": [
    {
      "cell_type": "markdown",
      "metadata": {
        "id": "view-in-github",
        "colab_type": "text"
      },
      "source": [
        "<a href=\"https://colab.research.google.com/github/ayberkcorp/cap4630-artificial_intelligence/blob/master/HW_5/Homework5.ipynb\" target=\"_parent\"><img src=\"https://colab.research.google.com/assets/colab-badge.svg\" alt=\"Open In Colab\"/></a>"
      ]
    },
    {
      "cell_type": "markdown",
      "metadata": {
        "id": "YPcX8xwjSzJR",
        "colab_type": "text"
      },
      "source": [
        "# Problem 1\n",
        "\n",
        "### General concepts:"
      ]
    },
    {
      "cell_type": "markdown",
      "metadata": {
        "id": "1sFNRo_dS5vX",
        "colab_type": "text"
      },
      "source": [
        "### Basic concepts:"
      ]
    },
    {
      "cell_type": "markdown",
      "metadata": {
        "id": "hlceR_vQS_rN",
        "colab_type": "text"
      },
      "source": [
        "### Building a model:"
      ]
    },
    {
      "cell_type": "markdown",
      "metadata": {
        "id": "UBpTgsONTCBU",
        "colab_type": "text"
      },
      "source": [
        "### Compiling a model:"
      ]
    },
    {
      "cell_type": "markdown",
      "metadata": {
        "id": "nU2xB_APTKqg",
        "colab_type": "text"
      },
      "source": [
        "### Training a model:"
      ]
    },
    {
      "cell_type": "markdown",
      "metadata": {
        "id": "u9QAdWlfTOTQ",
        "colab_type": "text"
      },
      "source": [
        "### Finetuning a pretrained model:"
      ]
    }
  ]
}