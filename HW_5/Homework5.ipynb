{
  "nbformat": 4,
  "nbformat_minor": 0,
  "metadata": {
    "colab": {
      "name": "Homework5.ipynb",
      "provenance": [],
      "collapsed_sections": [],
      "authorship_tag": "ABX9TyPR7n7avjjAqKgI7xd0Q6TM",
      "include_colab_link": true
    },
    "kernelspec": {
      "name": "python3",
      "display_name": "Python 3"
    }
  },
  "cells": [
    {
      "cell_type": "markdown",
      "metadata": {
        "id": "view-in-github",
        "colab_type": "text"
      },
      "source": [
        "<a href=\"https://colab.research.google.com/github/ayberkcorp/cap4630-artificial_intelligence/blob/master/HW_5/Homework5.ipynb\" target=\"_parent\"><img src=\"https://colab.research.google.com/assets/colab-badge.svg\" alt=\"Open In Colab\"/></a>"
      ]
    },
    {
      "cell_type": "markdown",
      "metadata": {
        "id": "YPcX8xwjSzJR",
        "colab_type": "text"
      },
      "source": [
        "# Problem 1\n",
        "\n",
        "### General concepts:\n",
        "In this course, I learned that artificial intelligence consists mostly of various algorithms to manipulate the computer into doing tasks that only intelligent entities would be able to complete. I learned that machine learning is a subset of artificial intelligence and that deep learning, which was the main focus of this class, is a subset of machine learning.\n",
        "\n",
        "Machine learning allows the computer to learn things without having been explicitly programmed to do so. It creates a dynamic environment in which computers can adjust themselves and the choices they make based on the data that they are fed.\n",
        "\n",
        "Deep learning takes the game to the next level and we see that the computer relies on networks of algorithms called artificial neural networks, in which each algorithm provides a different interpretation of the data to extract higher level features from it. This idea stems from the model of the biological brain during information processing."
      ]
    },
    {
      "cell_type": "markdown",
      "metadata": {
        "id": "1sFNRo_dS5vX",
        "colab_type": "text"
      },
      "source": [
        "### Basic concepts:"
      ]
    },
    {
      "cell_type": "markdown",
      "metadata": {
        "id": "hlceR_vQS_rN",
        "colab_type": "text"
      },
      "source": [
        "### Building a model:"
      ]
    },
    {
      "cell_type": "markdown",
      "metadata": {
        "id": "UBpTgsONTCBU",
        "colab_type": "text"
      },
      "source": [
        "### Compiling a model:"
      ]
    },
    {
      "cell_type": "markdown",
      "metadata": {
        "id": "nU2xB_APTKqg",
        "colab_type": "text"
      },
      "source": [
        "### Training a model:"
      ]
    },
    {
      "cell_type": "markdown",
      "metadata": {
        "id": "u9QAdWlfTOTQ",
        "colab_type": "text"
      },
      "source": [
        "### Finetuning a pretrained model:"
      ]
    }
  ]
}