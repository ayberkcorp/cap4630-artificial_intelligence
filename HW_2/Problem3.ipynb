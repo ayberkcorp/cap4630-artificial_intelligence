{
  "nbformat": 4,
  "nbformat_minor": 0,
  "metadata": {
    "colab": {
      "name": "Problem3.ipynb",
      "provenance": [],
      "collapsed_sections": [],
      "authorship_tag": "ABX9TyNFX7Fa33CbraJq/WqtZT/f",
      "include_colab_link": true
    },
    "kernelspec": {
      "name": "python3",
      "display_name": "Python 3"
    }
  },
  "cells": [
    {
      "cell_type": "markdown",
      "metadata": {
        "id": "view-in-github",
        "colab_type": "text"
      },
      "source": [
        "<a href=\"https://colab.research.google.com/github/ayberkcorp/cap4630-artificial_intelligence/blob/master/HW_2/Problem3.ipynb\" target=\"_parent\"><img src=\"https://colab.research.google.com/assets/colab-badge.svg\" alt=\"Open In Colab\"/></a>"
      ]
    },
    {
      "cell_type": "markdown",
      "metadata": {
        "id": "MmQZb5fq1C7H",
        "colab_type": "text"
      },
      "source": [
        "# Finding the Average Appearance of each MNIST Digit\n",
        "\n",
        "For this problem, we will find how each MNIST digit looks on average by adding every image of a particular digit $i$ and then dividing by the number of times $i$ occurs in the data set."
      ]
    },
    {
      "cell_type": "markdown",
      "metadata": {
        "id": "PKmpnv2BLATO",
        "colab_type": "text"
      },
      "source": [
        "### Loading the MNIST digits data set"
      ]
    },
    {
      "cell_type": "code",
      "metadata": {
        "id": "1mOKiPvr1AXR",
        "colab_type": "code",
        "colab": {}
      },
      "source": [
        "%tensorflow_version 2.x\n",
        "import tensorflow as tf\n",
        "\n",
        "(train_images, train_labels), (test_images, test_labels) = tf.keras.datasets.mnist.load_data()"
      ],
      "execution_count": 0,
      "outputs": []
    },
    {
      "cell_type": "markdown",
      "metadata": {
        "id": "QGAacfOWSlm-",
        "colab_type": "text"
      },
      "source": [
        "### Finding all occurrences of each digit organized by row"
      ]
    },
    {
      "cell_type": "code",
      "metadata": {
        "id": "xGeJcKPX_8ki",
        "colab_type": "code",
        "colab": {}
      },
      "source": [
        "import numpy as np\n",
        "\n",
        "digits = []\n",
        "for i in range(10):\n",
        "  digits.append(train_images[train_labels == i])"
      ],
      "execution_count": 0,
      "outputs": []
    },
    {
      "cell_type": "markdown",
      "metadata": {
        "id": "6z1Vdm4oTzaL",
        "colab_type": "text"
      },
      "source": [
        "### Finding and printing the average appearance of each digit"
      ]
    },
    {
      "cell_type": "code",
      "metadata": {
        "id": "yRb12oCrACRC",
        "colab_type": "code",
        "outputId": "8e547c50-66ee-4e52-bef6-b0d60efd962b",
        "colab": {
          "base_uri": "https://localhost:8080/",
          "height": 857
        }
      },
      "source": [
        "from PIL import Image\n",
        "%matplotlib inline\n",
        "import matplotlib.pyplot as plt\n",
        "\n",
        "for i in range(10):\n",
        "    digit_image = Image.fromarray(np.array(np.mean(digits[i], axis=0), dtype=np.uint8))\n",
        "    plt.figure(figsize=(1, 1))\n",
        "    plt.imshow(digit_image)\n",
        "    plt.title(i)\n",
        "    plt.axis('off')"
      ],
      "execution_count": 14,
      "outputs": [
        {
          "output_type": "display_data",
          "data": {
            "image/png": "[encoded data removed]",
            "text/plain": [
              "<Figure size 72x72 with 1 Axes>"
            ]
          },
          "metadata": {
            "tags": []
          }
        },
        {
          "output_type": "display_data",
          "data": {
            "image/png": "[encoded data removed]",
            "text/plain": [
              "<Figure size 72x72 with 1 Axes>"
            ]
          },
          "metadata": {
            "tags": []
          }
        },
        {
          "output_type": "display_data",
          "data": {
            "image/png": "[encoded data removed]",
            "text/plain": [
              "<Figure size 72x72 with 1 Axes>"
            ]
          },
          "metadata": {
            "tags": []
          }
        },
        {
          "output_type": "display_data",
          "data": {
            "image/png": "[encoded data removed]",
            "text/plain": [
              "<Figure size 72x72 with 1 Axes>"
            ]
          },
          "metadata": {
            "tags": []
          }
        },
        {
          "output_type": "display_data",
          "data": {
            "image/png": "[encoded data removed]",
            "text/plain": [
              "<Figure size 72x72 with 1 Axes>"
            ]
          },
          "metadata": {
            "tags": []
          }
        },
        {
          "output_type": "display_data",
          "data": {
            "image/png": "[encoded data removed]",
            "text/plain": [
              "<Figure size 72x72 with 1 Axes>"
            ]
          },
          "metadata": {
            "tags": []
          }
        },
        {
          "output_type": "display_data",
          "data": {
            "image/png": "[encoded data removed]",
            "text/plain": [
              "<Figure size 72x72 with 1 Axes>"
            ]
          },
          "metadata": {
            "tags": []
          }
        },
        {
          "output_type": "display_data",
          "data": {
            "image/png": "[encoded data removed]",
            "text/plain": [
              "<Figure size 72x72 with 1 Axes>"
            ]
          },
          "metadata": {
            "tags": []
          }
        },
        {
          "output_type": "display_data",
          "data": {
            "image/png": "[encoded data removed]",
            "text/plain": [
              "<Figure size 72x72 with 1 Axes>"
            ]
          },
          "metadata": {
            "tags": []
          }
        },
        {
          "output_type": "display_data",
          "data": {
            "image/png": "[encoded data removed]",
            "text/plain": [
              "<Figure size 72x72 with 1 Axes>"
            ]
          },
          "metadata": {
            "tags": []
          }
        }
      ]
    },
    {
      "cell_type": "markdown",
      "metadata": {
        "id": "whFdIs_OKmO3",
        "colab_type": "text"
      },
      "source": [
        "### Sources\n",
        "\n",
        "https://colab.research.google.com/github/schneider128k/machine_learning_course/blob/master/mnist_digits_data_set.ipynb\n",
        "\n",
        "https://pillow.readthedocs.io/en/3.1.x/reference/Image.html"
      ]
    }
  ]
}