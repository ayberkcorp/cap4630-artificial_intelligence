{
  "nbformat": 4,
  "nbformat_minor": 0,
  "metadata": {
    "colab": {
      "name": "MatrixMultiplication.ipynb",
      "provenance": [],
      "toc_visible": true,
      "authorship_tag": "ABX9TyPL6LuBkKFEy8jU/kwUCl0E",
      "include_colab_link": true
    },
    "kernelspec": {
      "name": "python3",
      "display_name": "Python 3"
    }
  },
  "cells": [
    {
      "cell_type": "markdown",
      "metadata": {
        "id": "view-in-github",
        "colab_type": "text"
      },
      "source": [
        "<a href=\"https://colab.research.google.com/github/ayberkcorp/cap4630-artificial_intelligence/blob/master/MatrixMultiplication.ipynb\" target=\"_parent\"><img src=\"https://colab.research.google.com/assets/colab-badge.svg\" alt=\"Open In Colab\"/></a>"
      ]
    },
    {
      "cell_type": "markdown",
      "metadata": {
        "id": "QtTAK8q8xbza",
        "colab_type": "text"
      },
      "source": [
        "# Matrix Multiplication\n",
        "---\n",
        "Two matrices can be multiplied if the number of columns of the first matrix is equal to the number of rows of the second matrix. In this case, we say the two matrices are **compatible** and the resultant matrix, called the **matrix product**, has the number of rows of the first and the number of columns of the second matrix.\n",
        "\n",
        "# Multiplicative Compatibility of Matrices\n",
        "---\n",
        "Two matrices $A$ and $B$ of dimensions $m \\times n$ and $p \\times q$, respectively, are *compatible* if and only if $n = p$ or $m = q$."
      ]
    },
    {
      "cell_type": "markdown",
      "metadata": {
        "id": "Or6pIFnXFoq_",
        "colab_type": "text"
      },
      "source": [
        "### Generating a Matrix Multiplication Chain:\n",
        "The function generate_matrices() shown in the code cell below was used to generate the following matrix multiplication chain:\n",
        "\n",
        "$\\begin{bmatrix}\n",
        "  7 & 2 & 1 & 6 & 1 \\\\\n",
        "  0 & 2 & 7 & 9 & 1 \\\\\n",
        "  5 & 4 & 5 & 0 & 8\n",
        "\\end{bmatrix} \\begin{bmatrix}\n",
        "  7 & 9 & 7 \\\\\n",
        "  4 & 2 & 1 \\\\\n",
        "  6 & 8 & 4 \\\\\n",
        "  7 & 3 & 2 \\\\\n",
        "  4 & 6 & 6\n",
        "\\end{bmatrix} \\begin{bmatrix}\n",
        "  5 & 7 & 9 \\\\\n",
        "  0 & 4 & 3 \\\\\n",
        "  4 & 4 & 2\n",
        "\\end{bmatrix} \\begin{bmatrix}\n",
        "  9 & 3 & 8 & 7 & 9 \\\\\n",
        "  1 & 4 & 4 & 6 & 4 \\\\\n",
        "  4 & 2 & 2 & 0 & 9\n",
        "\\end{bmatrix} \\begin{bmatrix}\n",
        "  1 \\\\\n",
        "  1 \\\\\n",
        "  0 \\\\\n",
        "  5 \\\\\n",
        "  0\n",
        "\\end{bmatrix}$\n",
        "\n",
        "This chain is valid because each consecutive pair of matrices are compatible."
      ]
    },
    {
      "cell_type": "code",
      "metadata": {
        "id": "-UsboPMGBAgm",
        "colab_type": "code",
        "colab": {}
      },
      "source": [
        "import numpy as np\n",
        "from random import randint\n",
        "\n",
        "# Returns a nonempty list of validly multipliable random matrices.\n",
        "def generate_matrices():\n",
        "  matrices = []\n",
        "\n",
        "  # The list can have a random number of matrices up to and including 10.\n",
        "  num_matrices = randint(1, 10)\n",
        "\n",
        "  # Each matrix is 2D and randomly shaped inclusively up to 5 elements\n",
        "  # per axis.  The list does not include empty matrices.\n",
        "  m, n = randint(1, 5), randint(1,5)\n",
        "\n",
        "  for i in range(num_matrices):\n",
        "    # The entries in each matrix are random integers from [0-9].\n",
        "    matrices.append(np.random.randint(0, 10, (m, n)))\n",
        "    m = n\n",
        "    n = randint(1, 5)\n",
        "\n",
        "  return matrices\n",
        "\n",
        "# Optional: remove \"# \"  on the line below to see the matrices generated.\n",
        "# print(generate_matrices())"
      ],
      "execution_count": 0,
      "outputs": []
    },
    {
      "cell_type": "markdown",
      "metadata": {
        "id": "I7eVTmWsSdEt",
        "colab_type": "text"
      },
      "source": [
        "### Finding the Matrix Product of a Chain:\n",
        "The function multiply_matrices() shown in the code cell below produces the following matrix product for the chain presented earlier:\n",
        "\n",
        "$\\begin{bmatrix}\n",
        "  7 & 2 & 1 & 6 & 1 \\\\\n",
        "  0 & 2 & 7 & 9 & 1 \\\\\n",
        "  5 & 4 & 5 & 0 & 8\n",
        "\\end{bmatrix} \\begin{bmatrix}\n",
        "  7 & 9 & 7 \\\\\n",
        "  4 & 2 & 1 \\\\\n",
        "  6 & 8 & 4 \\\\\n",
        "  7 & 3 & 2 \\\\\n",
        "  4 & 6 & 6\n",
        "\\end{bmatrix} \\begin{bmatrix}\n",
        "  5 & 7 & 9 \\\\\n",
        "  0 & 4 & 3 \\\\\n",
        "  4 & 4 & 2\n",
        "\\end{bmatrix} \\begin{bmatrix}\n",
        "  9 & 3 & 8 & 7 & 9 \\\\\n",
        "  1 & 4 & 4 & 6 & 4 \\\\\n",
        "  4 & 2 & 2 & 0 & 9\n",
        "\\end{bmatrix} \\begin{bmatrix}\n",
        "  1 \\\\\n",
        "  1 \\\\\n",
        "  0 \\\\\n",
        "  5 \\\\\n",
        "  0\n",
        "\\end{bmatrix} = \\begin{bmatrix}\n",
        "  98668 \\\\\n",
        "  95532 \\\\\n",
        "  119000\n",
        "\\end{bmatrix}$"
      ]
    },
    {
      "cell_type": "code",
      "metadata": {
        "id": "V9JcDabkXq3P",
        "colab_type": "code",
        "colab": {}
      },
      "source": [
        "# A custom exception class.\n",
        "class IncompatibleMatricesError(Exception):\n",
        "  \"\"\"Raised when trying to multiply two matrices\n",
        "  that have incompatible dimensions.\n",
        "  \"\"\"\n",
        "  pass\n",
        "\n",
        "# Returns the matrix product of a matrix multiplication chain.\n",
        "def multiply_matrices(matrices):\n",
        "  try:\n",
        "    matrix_product = matrices[0]\n",
        "    for i in range(len(matrices) - 1):\n",
        "      if matrix_product.shape[1] != matrices[i + 1].shape[0]:\n",
        "        raise IncompatibleMatricesError\n",
        "      matrix_product = np.matmul(matrix_product, matrices[i + 1])\n",
        "    return matrix_product\n",
        "  except IncompatibleMatricesError:\n",
        "    return \"The matrices in slots %d and %d are incompatible.\" % (i, i + 1)\n",
        "  except IndexError:\n",
        "    return \"The list is empty.\""
      ],
      "execution_count": 0,
      "outputs": []
    },
    {
      "cell_type": "code",
      "metadata": {
        "id": "Y6Khv_YXpGQ7",
        "colab_type": "code",
        "outputId": "24a2305e-024e-41c5-b655-2a77a58b84e0",
        "colab": {
          "base_uri": "https://localhost:8080/",
          "height": 277
        }
      },
      "source": [
        "# Test Cases for multiply_matrices() above:\n",
        "\n",
        "# The chain that was presented earlier.\n",
        "matrices_1 = [np.array([[7, 2, 1, 6, 1],\n",
        "                       [0, 2, 7, 9, 1],\n",
        "                       [5, 4, 5, 0, 8]]),\n",
        "             np.array([[7, 9, 7],\n",
        "                       [4, 2, 1],\n",
        "                       [6, 8, 4],\n",
        "                       [7, 3, 2],\n",
        "                       [4, 6, 6]]),\n",
        "             np.array([[5, 7, 9],\n",
        "                       [0, 4, 3],\n",
        "                       [4, 4, 2]]),\n",
        "             np.array([[9, 3, 8, 7, 9],\n",
        "                       [1, 4, 4, 6, 4],\n",
        "                       [4, 2, 2, 0, 9]]),\n",
        "             np.array([[1],\n",
        "                       [1],\n",
        "                       [0],\n",
        "                       [5],\n",
        "                       [0]])]\n",
        "\n",
        "# Same as matrices_1, but with an incompatible pair.\n",
        "matrices_2 = [np.array([[7, 2, 1, 6, 1],\n",
        "                        [0, 2, 7, 9, 1],\n",
        "                        [5, 4, 5, 0, 8]]),\n",
        "              np.array([[7, 9, 7],\n",
        "                        [4, 2, 1],\n",
        "                        [6, 8, 4],\n",
        "                        [7, 3, 2],\n",
        "                        [4, 6, 6]]),\n",
        "              np.array([[5, 7, 9],\n",
        "                        [0, 4, 3],\n",
        "                        [4, 4, 2],\n",
        "                        [3, 3, 1]]),  # <--- Put an extra row here.\n",
        "              np.array([[9, 3, 8, 7, 9],\n",
        "                        [1, 4, 4, 6, 4],\n",
        "                        [4, 2, 2, 0, 9]]),\n",
        "              np.array([[1],\n",
        "                        [1],\n",
        "                        [0],\n",
        "                        [5],\n",
        "                        [0]])]\n",
        "\n",
        "# An empty list.\n",
        "matrices_3 = []\n",
        "\n",
        "# A list with exactly one matrix.\n",
        "matrices_4 = [np.array([[4, 1, 9, 3],\n",
        "                        [1, 6, 9, 0],\n",
        "                        [2, 2, 1, 9]])]\n",
        "\n",
        "# Testing these lists of matrices.\n",
        "print(\"Output for matrices_1:\")\n",
        "print(multiply_matrices(matrices_1))\n",
        "print(\"\\nOutput for matrices_2:\")\n",
        "print(multiply_matrices(matrices_2))\n",
        "print(\"\\nOutput for matrices_3:\")\n",
        "print(multiply_matrices(matrices_3))\n",
        "print(\"\\nOutput for matrices_4:\")\n",
        "print(multiply_matrices(matrices_4))"
      ],
      "execution_count": 63,
      "outputs": [
        {
          "output_type": "stream",
          "text": [
            "Output for matrices_1:\n",
            "[[ 98668]\n",
            " [ 95532]\n",
            " [119000]]\n",
            "\n",
            "Output for matrices_2:\n",
            "The matrices in slots 1 and 2 are incompatible.\n",
            "\n",
            "Output for matrices_3:\n",
            "The list is empty.\n",
            "\n",
            "Output for matrices_4:\n",
            "[[4 1 9 3]\n",
            " [1 6 9 0]\n",
            " [2 2 1 9]]\n"
          ],
          "name": "stdout"
        }
      ]
    }
  ]
}